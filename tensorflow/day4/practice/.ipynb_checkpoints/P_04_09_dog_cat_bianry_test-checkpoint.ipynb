{
 "cells": [
  {
   "cell_type": "code",
   "execution_count": 1,
   "metadata": {},
   "outputs": [],
   "source": [
    "import os\n",
    "import matplotlib.pyplot as plt\n",
    "import tensorflow as tf\n",
    "import numpy as np\n",
    "import cv2\n",
    "\n",
    "test_dir='../dataset\\\\cats_and_dogs_small\\\\test'\n",
    "\n",
    "test_cats_dir= os.path.join(test_dir,'cats')\n",
    "test_dogs_dir= os.path.join(test_dir,'dogs')\n",
    "\n"
   ]
  },
  {
   "cell_type": "code",
   "execution_count": 2,
   "metadata": {},
   "outputs": [],
   "source": [
    "\n",
    "names=['cat', 'dog'] ## names[0]= cat, names[1]=dog\n",
    "fnames = sorted([os.path.join(test_dogs_dir, fname) for fname in os.listdir(test_dogs_dir)])\n",
    "# fnames = sorted([os.path.join(test_cats_dir, fname) for fname in os.listdir(test_cats_dir)])\n",
    "\n",
    "img_path = fnames[3]\n"
   ]
  },
  {
   "cell_type": "code",
   "execution_count": 3,
   "metadata": {},
   "outputs": [
    {
     "name": "stdout",
     "output_type": "stream",
     "text": [
      "(128, 128, 3)\n"
     ]
    }
   ],
   "source": [
    "\n",
    "# 이미지를 읽고 크기를 변경합니다\n",
    "img=cv2.imread(img_path)\n",
    "img_resize=cv2.resize(img,(128,128))\n",
    "\n",
    "## 이미지 회전 변환 메트릭스 구하기\n",
    "M= cv2.getRotationMatrix2D((128/2, 128/2), 10, 1)  ## Matrix 생성\n",
    "## 이미지 이동 변환 메트릭스 구하기\n",
    "M[0, 2]=M[0, 2]+5\n",
    "M[1, 2]=M[1, 2]+3\n",
    "test_image = cv2.warpAffine(img_resize, M,(128, 128) )\n",
    "print(test_image.shape)\n",
    "## model 입력차원 : ( bathch size, w, h, c ) 인데 모델 선언할때 shape=(w,h,c)\n",
    "## batch size는 model fit에서 할당된 값을 가져옵니다. 즉, None 이로 설정되어 있음.\n",
    "## model fit이 데이터를 읽어서 전달할때는 ( None, w, h, c) 인데\n",
    "## 여기서 none은 model fit 혹은 제너레이터 함수로 설정되뉴 batch size로 할당 됨.\n",
    "test_image_reshape = test_image.reshape(1, 128, 128, 3)\n"
   ]
  },
  {
   "cell_type": "code",
   "execution_count": 4,
   "metadata": {},
   "outputs": [],
   "source": [
    "\n",
    "model = tf.keras.models.load_model('cats_and_dogs_binary_classification.hdf5') # 모델을 새로 불러옴\n"
   ]
  },
  {
   "cell_type": "code",
   "execution_count": null,
   "metadata": {},
   "outputs": [],
   "source": [
    "y = model.predict(test_image_reshape)\n",
    "## 출력 y= [[0~1값]]\n",
    "if y[0]<=0.5:\n",
    "    class_num=0\n",
    "else:\n",
    "    class_num=1\n",
    "plt.imshow(test_image)\n",
    "plt.xlabel(names[class_num] + str(y[0]) )\n",
    "plt.show()"
   ]
  }
 ],
 "metadata": {
  "anaconda-cloud": {},
  "kernelspec": {
   "display_name": "Python 3",
   "language": "python",
   "name": "python3"
  },
  "language_info": {
   "codemirror_mode": {
    "name": "ipython",
    "version": 3
   },
   "file_extension": ".py",
   "mimetype": "text/x-python",
   "name": "python",
   "nbconvert_exporter": "python",
   "pygments_lexer": "ipython3",
   "version": "3.6.8"
  }
 },
 "nbformat": 4,
 "nbformat_minor": 4
}
