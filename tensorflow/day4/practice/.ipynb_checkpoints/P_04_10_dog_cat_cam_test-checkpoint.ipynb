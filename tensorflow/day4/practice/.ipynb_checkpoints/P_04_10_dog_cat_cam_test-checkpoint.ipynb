{
 "cells": [
  {
   "cell_type": "code",
   "execution_count": 1,
   "metadata": {},
   "outputs": [],
   "source": [
    "import os\n",
    "import matplotlib.pyplot as plt\n",
    "import tensorflow as tf\n",
    "import numpy as np\n",
    "import cv2\n",
    "names=['cat', 'dog'] ## names[0]= cat, names[1]=dog\n",
    "\n",
    "\n"
   ]
  },
  {
   "cell_type": "code",
   "execution_count": 2,
   "metadata": {},
   "outputs": [],
   "source": [
    "model = tf.keras.models.load_model('cats_and_dogs_aug_binary_classification.hdf5')  # 모델을 새로 불러옴\n",
    "\n"
   ]
  },
  {
   "cell_type": "code",
   "execution_count": 3,
   "metadata": {},
   "outputs": [
    {
     "data": {
      "text/plain": [
       "True"
      ]
     },
     "execution_count": 3,
     "metadata": {},
     "output_type": "execute_result"
    }
   ],
   "source": [
    "capture = cv2.VideoCapture(0)\n",
    "capture.set(cv2.CAP_PROP_FRAME_WIDTH, 640)\n",
    "capture.set(cv2.CAP_PROP_FRAME_HEIGHT, 480)\n",
    "\n"
   ]
  },
  {
   "cell_type": "code",
   "execution_count": null,
   "metadata": {},
   "outputs": [],
   "source": [
    "while True:\n",
    "    ret, frame = capture.read()  ## ret =True or False // frame 웹캠으로 순간 캡쳐된 이미지\n",
    "\n",
    "    if ret == False or ret ==False:\n",
    "        continue\n",
    "\n",
    "    img_resize = cv2.resize(frame, (128, 128))\n",
    "    test_image_reshape = img_resize.reshape(1, 128, 128, 3).astype('float32')\n",
    "\n",
    "    y = model.predict(test_image_reshape)\n",
    "    ## y=[[0.6]]\n",
    "    if y[0] <= 0.5:\n",
    "        class_num = 0\n",
    "    else:\n",
    "        class_num = 1\n",
    "    class_name=names[class_num]  ## y= [[0.9 , 0.1]]\n",
    "\n",
    "    location = (10, 20 + 20)\n",
    "    cv2.putText(frame, str(class_name) +str(y[0]), location, cv2.FONT_ITALIC, 1, (0, 255, 0), 2)\n",
    "\n",
    "    cv2.imshow(\"VideoFrame\", frame)\n",
    "\n",
    "    if cv2.waitKey(1) > 0: break\n"
   ]
  }
 ],
 "metadata": {
  "anaconda-cloud": {},
  "kernelspec": {
   "display_name": "Python 3",
   "language": "python",
   "name": "python3"
  },
  "language_info": {
   "codemirror_mode": {
    "name": "ipython",
    "version": 3
   },
   "file_extension": ".py",
   "mimetype": "text/x-python",
   "name": "python",
   "nbconvert_exporter": "python",
   "pygments_lexer": "ipython3",
   "version": "3.6.8"
  }
 },
 "nbformat": 4,
 "nbformat_minor": 4
}
