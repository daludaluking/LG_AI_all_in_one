{
 "cells": [
  {
   "cell_type": "code",
   "execution_count": 1,
   "source": [
    "\n",
    "\n",
    "import tensorflow as tf\n",
    "import matplotlib.pyplot as plt\n",
    "import numpy\n",
    "import os\n",
    "\n",
    "gpus = tf.config.experimental.list_physical_devices('GPU')\n",
    "if gpus:\n",
    "  try:\n",
    "    # Currently, memory growth needs to be the same across GPUs\n",
    "    for gpu in gpus:\n",
    "      tf.config.experimental.set_memory_growth(gpu, True)\n",
    "    logical_gpus = tf.config.experimental.list_logical_devices('GPU')\n",
    "    print(len(gpus), \"Physical GPUs,\", len(logical_gpus), \"Logical GPUs\")\n",
    "  except RuntimeError as e:\n",
    "    # Memory growth must be set before GPUs have been initialized\n",
    "    print(e)"
   ],
   "outputs": [
    {
     "output_type": "stream",
     "name": "stdout",
     "text": [
      "1 Physical GPUs, 1 Logical GPUs\n"
     ]
    }
   ],
   "metadata": {}
  },
  {
   "cell_type": "code",
   "execution_count": 2,
   "source": [
    "\n",
    "# MNIST 데이터 불러오기\n",
    "(X_train, Y_train), (X_test, Y_test) = tf.keras.datasets.mnist.load_data()\n",
    "## X_train shape : ( 이미지 장수, 이미지 가로 , 이미지 세로 )\n",
    "## Y_train : (정답 갯수, ) - > [ 0 ,1, 2, 4 ,5, 5, ....  ]\n"
   ],
   "outputs": [],
   "metadata": {}
  },
  {
   "cell_type": "code",
   "execution_count": 3,
   "source": [
    "\n",
    "## X_train shape : ( 이미지 장수, 가로 , 세로 ) 이차원 이어서 Neural Network(=Multi Layer Perceptron ) 입력 차원인 1차원으로\n",
    "## 변경 해주어야 합니다.\n",
    "## reshape 사용하여 차원 변형\n",
    "X_train = X_train.reshape(X_train.shape[0], 784).astype('float32')  ## 28x28= 784\n",
    "X_test = X_test.reshape(X_test.shape[0], 784).astype('float32')\n"
   ],
   "outputs": [],
   "metadata": {}
  },
  {
   "cell_type": "code",
   "execution_count": 4,
   "source": [
    "\n",
    "##  [ 0 ,1, 2, 4 ,5, 5, ....  ] -> [ [1 0 0 0 0 0 0 0], [0 1 0 0 0 0 0.. ] , ] 원핫인코딩\n",
    "Y_train = tf.keras.utils.to_categorical(Y_train)\n",
    "Y_test =  tf.keras.utils.to_categorical(Y_test)\n"
   ],
   "outputs": [],
   "metadata": {}
  },
  {
   "cell_type": "code",
   "execution_count": 5,
   "source": [
    "\n",
    "#모델 설계\n",
    "# method 1\n",
    "input_Layer = tf.keras.layers.Input(shape=(784,)) ## 데이터 입력\n",
    "x = tf.keras.layers.Dense(512, activation=None)(input_Layer) # hidden layer1\n",
    "x = tf.keras.layers.BatchNormalization()(x)\n",
    "x = tf.keras.layers.Activation('relu')(x)\n",
    "x = tf.keras.layers.Dense(512, activation=None)(x)\n",
    "x = tf.keras.layers.BatchNormalization()(x)\n",
    "x = tf.keras.layers.Activation('relu')(x)\n",
    "## out은 task를 수행.\n",
    "## 10개의 class를 분류해야힘\n",
    "## 분류해야하는 class  0~ 9: 10개 그래서 아웃풋 perceptron 10개\n",
    "## 각각의 perceptron이 출력값을 가지면 -> 상관관계가 없음.\n",
    "## 출력을 확률 처럼 맵핑 하고자 softmax 를 사용하면\n",
    "# 출력이 확률처럼나오게 된다. 때문에 멀티 클레스피케이션에서 softmax를 쓰는게 일반적.\n",
    "Out_Layer= tf.keras.layers.Dense(10, activation='softmax')(x)  ## 분류해야하는 class  0~ 9: 10개 그래서 아웃풋 perceptron 10개\n",
    "\n",
    "model = tf.keras.Model(inputs=[input_Layer], outputs=[Out_Layer])\n",
    "model.summary()\n"
   ],
   "outputs": [
    {
     "output_type": "stream",
     "name": "stdout",
     "text": [
      "Model: \"model\"\n",
      "_________________________________________________________________\n",
      "Layer (type)                 Output Shape              Param #   \n",
      "=================================================================\n",
      "input_1 (InputLayer)         [(None, 784)]             0         \n",
      "_________________________________________________________________\n",
      "dense (Dense)                (None, 512)               401920    \n",
      "_________________________________________________________________\n",
      "dense_1 (Dense)              (None, 512)               262656    \n",
      "_________________________________________________________________\n",
      "dense_2 (Dense)              (None, 10)                5130      \n",
      "=================================================================\n",
      "Total params: 669,706\n",
      "Trainable params: 669,706\n",
      "Non-trainable params: 0\n",
      "_________________________________________________________________\n"
     ]
    }
   ],
   "metadata": {}
  },
  {
   "cell_type": "code",
   "execution_count": 6,
   "source": [
    "\n",
    "# 모델 컴파일\n",
    "loss=tf.keras.losses.categorical_crossentropy\n",
    "optimizer = tf.keras.optimizers.Adam(learning_rate=0.001)\n",
    "metric=tf.keras.metrics.categorical_accuracy\n",
    "model.compile(loss=loss,\n",
    "             optimizer=optimizer,\n",
    "             metrics=[metric])\n",
    "\n",
    "# 베스트 모델 저장을 위한 디렉토리 선언\n",
    "MODEL_DIR = './MNIST_model/'\n",
    "if not os.path.exists(MODEL_DIR):\n",
    "    os.mkdir(MODEL_DIR)\n",
    "\n",
    "## 저장한 모델의 주소와 이름.\n",
    "modelpath=\"./MNIST_model/{epoch:02d}-{val_loss:.4f}.hdf5\"\n",
    "\n",
    "## 사용할 callback 함수 선언.\n",
    "callback_list=[tf.keras.callbacks.ModelCheckpoint(filepath=modelpath, monitor='val_loss', verbose=1, save_best_only=True),\n",
    "               tf.keras.callbacks.EarlyStopping(monitor='val_loss', patience=10)]\n",
    "\n",
    "# 모델의 실행\n",
    "#  validation_data 옵션으로 테스트 데이터만 넣어주어서 검증 데이터 분류가 가능\n",
    "result = model.fit(X_train, Y_train, validation_split=0.2, epochs=30, batch_size=1000, verbose=1, callbacks=callback_list)\n",
    "print(result.history.keys())\n",
    "\n"
   ],
   "outputs": [
    {
     "output_type": "stream",
     "name": "stdout",
     "text": [
      "Epoch 1/30\n",
      "48/48 [==============================] - 2s 15ms/step - loss: 15.1137 - categorical_accuracy: 0.7955 - val_loss: 1.2714 - val_categorical_accuracy: 0.9237\n",
      "\n",
      "Epoch 00001: val_loss improved from inf to 1.27139, saving model to ./MNIST_model/01-1.2714.hdf5\n",
      "Epoch 2/30\n",
      "48/48 [==============================] - 1s 11ms/step - loss: 0.8305 - categorical_accuracy: 0.9334 - val_loss: 0.7555 - val_categorical_accuracy: 0.9339\n",
      "\n",
      "Epoch 00002: val_loss improved from 1.27139 to 0.75548, saving model to ./MNIST_model/02-0.7555.hdf5\n",
      "Epoch 3/30\n",
      "48/48 [==============================] - 1s 11ms/step - loss: 0.3748 - categorical_accuracy: 0.9559 - val_loss: 0.6127 - val_categorical_accuracy: 0.9409\n",
      "\n",
      "Epoch 00003: val_loss improved from 0.75548 to 0.61269, saving model to ./MNIST_model/03-0.6127.hdf5\n",
      "Epoch 4/30\n",
      "48/48 [==============================] - 1s 11ms/step - loss: 0.1975 - categorical_accuracy: 0.9706 - val_loss: 0.5688 - val_categorical_accuracy: 0.9423\n",
      "\n",
      "Epoch 00004: val_loss improved from 0.61269 to 0.56884, saving model to ./MNIST_model/04-0.5688.hdf5\n",
      "Epoch 5/30\n",
      "48/48 [==============================] - 1s 11ms/step - loss: 0.1036 - categorical_accuracy: 0.9819 - val_loss: 0.5259 - val_categorical_accuracy: 0.9452\n",
      "\n",
      "Epoch 00005: val_loss improved from 0.56884 to 0.52588, saving model to ./MNIST_model/05-0.5259.hdf5\n",
      "Epoch 6/30\n",
      "48/48 [==============================] - 1s 11ms/step - loss: 0.0569 - categorical_accuracy: 0.9884 - val_loss: 0.5150 - val_categorical_accuracy: 0.9473\n",
      "\n",
      "Epoch 00006: val_loss improved from 0.52588 to 0.51498, saving model to ./MNIST_model/06-0.5150.hdf5\n",
      "Epoch 7/30\n",
      "48/48 [==============================] - 1s 11ms/step - loss: 0.0283 - categorical_accuracy: 0.9936 - val_loss: 0.5038 - val_categorical_accuracy: 0.9480\n",
      "\n",
      "Epoch 00007: val_loss improved from 0.51498 to 0.50383, saving model to ./MNIST_model/07-0.5038.hdf5\n",
      "Epoch 8/30\n",
      "48/48 [==============================] - 1s 11ms/step - loss: 0.0130 - categorical_accuracy: 0.9970 - val_loss: 0.4858 - val_categorical_accuracy: 0.9488\n",
      "\n",
      "Epoch 00008: val_loss improved from 0.50383 to 0.48580, saving model to ./MNIST_model/08-0.4858.hdf5\n",
      "Epoch 9/30\n",
      "48/48 [==============================] - 0s 10ms/step - loss: 0.0057 - categorical_accuracy: 0.9988 - val_loss: 0.4859 - val_categorical_accuracy: 0.9493\n",
      "\n",
      "Epoch 00009: val_loss did not improve from 0.48580\n",
      "Epoch 10/30\n",
      "48/48 [==============================] - 1s 11ms/step - loss: 0.0022 - categorical_accuracy: 0.9996 - val_loss: 0.4780 - val_categorical_accuracy: 0.9500\n",
      "\n",
      "Epoch 00010: val_loss improved from 0.48580 to 0.47805, saving model to ./MNIST_model/10-0.4780.hdf5\n",
      "Epoch 11/30\n",
      "48/48 [==============================] - 0s 10ms/step - loss: 8.4499e-04 - categorical_accuracy: 0.9999 - val_loss: 0.4745 - val_categorical_accuracy: 0.9509\n",
      "\n",
      "Epoch 00011: val_loss improved from 0.47805 to 0.47448, saving model to ./MNIST_model/11-0.4745.hdf5\n",
      "Epoch 12/30\n",
      "48/48 [==============================] - 1s 11ms/step - loss: 4.1396e-04 - categorical_accuracy: 1.0000 - val_loss: 0.4736 - val_categorical_accuracy: 0.9507\n",
      "\n",
      "Epoch 00012: val_loss improved from 0.47448 to 0.47358, saving model to ./MNIST_model/12-0.4736.hdf5\n",
      "Epoch 13/30\n",
      "48/48 [==============================] - 1s 11ms/step - loss: 3.2163e-04 - categorical_accuracy: 1.0000 - val_loss: 0.4739 - val_categorical_accuracy: 0.9512\n",
      "\n",
      "Epoch 00013: val_loss did not improve from 0.47358\n",
      "Epoch 14/30\n",
      "48/48 [==============================] - 1s 11ms/step - loss: 2.7564e-04 - categorical_accuracy: 1.0000 - val_loss: 0.4732 - val_categorical_accuracy: 0.9510\n",
      "\n",
      "Epoch 00014: val_loss improved from 0.47358 to 0.47316, saving model to ./MNIST_model/14-0.4732.hdf5\n",
      "Epoch 15/30\n",
      "48/48 [==============================] - 1s 12ms/step - loss: 2.4787e-04 - categorical_accuracy: 1.0000 - val_loss: 0.4734 - val_categorical_accuracy: 0.9516\n",
      "\n",
      "Epoch 00015: val_loss did not improve from 0.47316\n",
      "Epoch 16/30\n",
      "48/48 [==============================] - 1s 11ms/step - loss: 2.2574e-04 - categorical_accuracy: 1.0000 - val_loss: 0.4730 - val_categorical_accuracy: 0.9514\n",
      "\n",
      "Epoch 00016: val_loss improved from 0.47316 to 0.47296, saving model to ./MNIST_model/16-0.4730.hdf5\n",
      "Epoch 17/30\n",
      "48/48 [==============================] - 1s 12ms/step - loss: 2.0820e-04 - categorical_accuracy: 1.0000 - val_loss: 0.4731 - val_categorical_accuracy: 0.9515\n",
      "\n",
      "Epoch 00017: val_loss did not improve from 0.47296\n",
      "Epoch 18/30\n",
      "48/48 [==============================] - 1s 12ms/step - loss: 1.9338e-04 - categorical_accuracy: 1.0000 - val_loss: 0.4731 - val_categorical_accuracy: 0.9517\n",
      "\n",
      "Epoch 00018: val_loss did not improve from 0.47296\n",
      "Epoch 19/30\n",
      "48/48 [==============================] - 1s 11ms/step - loss: 1.8007e-04 - categorical_accuracy: 1.0000 - val_loss: 0.4726 - val_categorical_accuracy: 0.9519\n",
      "\n",
      "Epoch 00019: val_loss improved from 0.47296 to 0.47261, saving model to ./MNIST_model/19-0.4726.hdf5\n",
      "Epoch 20/30\n",
      "48/48 [==============================] - 1s 12ms/step - loss: 1.6835e-04 - categorical_accuracy: 1.0000 - val_loss: 0.4727 - val_categorical_accuracy: 0.9517\n",
      "\n",
      "Epoch 00020: val_loss did not improve from 0.47261\n",
      "Epoch 21/30\n",
      "48/48 [==============================] - 1s 11ms/step - loss: 1.5859e-04 - categorical_accuracy: 1.0000 - val_loss: 0.4727 - val_categorical_accuracy: 0.9520\n",
      "\n",
      "Epoch 00021: val_loss did not improve from 0.47261\n",
      "Epoch 22/30\n",
      "48/48 [==============================] - 1s 12ms/step - loss: 1.4937e-04 - categorical_accuracy: 1.0000 - val_loss: 0.4725 - val_categorical_accuracy: 0.9519\n",
      "\n",
      "Epoch 00022: val_loss improved from 0.47261 to 0.47253, saving model to ./MNIST_model/22-0.4725.hdf5\n",
      "Epoch 23/30\n",
      "48/48 [==============================] - 1s 11ms/step - loss: 1.4127e-04 - categorical_accuracy: 1.0000 - val_loss: 0.4723 - val_categorical_accuracy: 0.9520\n",
      "\n",
      "Epoch 00023: val_loss improved from 0.47253 to 0.47230, saving model to ./MNIST_model/23-0.4723.hdf5\n",
      "Epoch 24/30\n",
      "48/48 [==============================] - 1s 11ms/step - loss: 1.3331e-04 - categorical_accuracy: 1.0000 - val_loss: 0.4722 - val_categorical_accuracy: 0.9520\n",
      "\n",
      "Epoch 00024: val_loss improved from 0.47230 to 0.47220, saving model to ./MNIST_model/24-0.4722.hdf5\n",
      "Epoch 25/30\n",
      "48/48 [==============================] - 1s 11ms/step - loss: 1.2688e-04 - categorical_accuracy: 1.0000 - val_loss: 0.4721 - val_categorical_accuracy: 0.9521\n",
      "\n",
      "Epoch 00025: val_loss improved from 0.47220 to 0.47206, saving model to ./MNIST_model/25-0.4721.hdf5\n",
      "Epoch 26/30\n",
      "48/48 [==============================] - 1s 10ms/step - loss: 1.2099e-04 - categorical_accuracy: 1.0000 - val_loss: 0.4722 - val_categorical_accuracy: 0.9521\n",
      "\n",
      "Epoch 00026: val_loss did not improve from 0.47206\n",
      "Epoch 27/30\n",
      "48/48 [==============================] - 1s 12ms/step - loss: 1.1480e-04 - categorical_accuracy: 1.0000 - val_loss: 0.4720 - val_categorical_accuracy: 0.9521\n",
      "\n",
      "Epoch 00027: val_loss improved from 0.47206 to 0.47198, saving model to ./MNIST_model/27-0.4720.hdf5\n",
      "Epoch 28/30\n",
      "48/48 [==============================] - 1s 11ms/step - loss: 1.0948e-04 - categorical_accuracy: 1.0000 - val_loss: 0.4719 - val_categorical_accuracy: 0.9523\n",
      "\n",
      "Epoch 00028: val_loss improved from 0.47198 to 0.47194, saving model to ./MNIST_model/28-0.4719.hdf5\n",
      "Epoch 29/30\n",
      "48/48 [==============================] - 1s 12ms/step - loss: 1.0451e-04 - categorical_accuracy: 1.0000 - val_loss: 0.4718 - val_categorical_accuracy: 0.9523\n",
      "\n",
      "Epoch 00029: val_loss improved from 0.47194 to 0.47185, saving model to ./MNIST_model/29-0.4718.hdf5\n",
      "Epoch 30/30\n",
      "48/48 [==============================] - 1s 11ms/step - loss: 9.9879e-05 - categorical_accuracy: 1.0000 - val_loss: 0.4717 - val_categorical_accuracy: 0.9523\n",
      "\n",
      "Epoch 00030: val_loss improved from 0.47185 to 0.47167, saving model to ./MNIST_model/30-0.4717.hdf5\n",
      "dict_keys(['loss', 'categorical_accuracy', 'val_loss', 'val_categorical_accuracy'])\n"
     ]
    }
   ],
   "metadata": {}
  },
  {
   "cell_type": "code",
   "execution_count": 7,
   "source": [
    "# 테스트 정확도 출력\n",
    "print(\"\\n Test Accuracy: %.4f\" % (model.evaluate(X_test, Y_test)[1]))\n",
    "# 테스트 셋의 오차\n",
    "val_loss = result.history['val_loss']\n",
    "\n",
    "# 학습셋의 오차\n",
    "loss = result.history['loss']\n",
    "\n",
    "# 그래프로 표현\n",
    "x_len = numpy.arange(len(val_loss))\n",
    "plt.plot(x_len, val_loss, marker='.', c=\"red\", label='Testset_loss')\n",
    "plt.plot(x_len, loss, marker='.', c=\"blue\", label='Trainset_loss')\n",
    "\n",
    "# 그래프에 그리드를 주고 레이블을 표시\n",
    "plt.legend(loc='upper right')\n",
    "# plt.axis([0, 20, 0, 0.35])\n",
    "plt.grid()\n",
    "plt.xlabel('epoch')\n",
    "plt.ylabel('loss')\n",
    "plt.show()"
   ],
   "outputs": [
    {
     "output_type": "stream",
     "name": "stdout",
     "text": [
      "313/313 [==============================] - 1s 3ms/step - loss: 0.4100 - categorical_accuracy: 0.9567\n",
      "\n",
      " Test Accuracy: 0.9567\n"
     ]
    },
    {
     "output_type": "display_data",
     "data": {
      "text/plain": [
       "<Figure size 432x288 with 1 Axes>"
      ],
      "image/svg+xml": "<?xml version=\"1.0\" encoding=\"utf-8\" standalone=\"no\"?>\n<!DOCTYPE svg PUBLIC \"-//W3C//DTD SVG 1.1//EN\"\n  \"http://www.w3.org/Graphics/SVG/1.1/DTD/svg11.dtd\">\n<svg height=\"262.19625pt\" version=\"1.1\" viewBox=\"0 0 384.242741 262.19625\" width=\"384.242741pt\" xmlns=\"http://www.w3.org/2000/svg\" xmlns:xlink=\"http://www.w3.org/1999/xlink\">\n <metadata>\n  <rdf:RDF xmlns:cc=\"http://creativecommons.org/ns#\" xmlns:dc=\"http://purl.org/dc/elements/1.1/\" xmlns:rdf=\"http://www.w3.org/1999/02/22-rdf-syntax-ns#\">\n   <cc:Work>\n    <dc:type rdf:resource=\"http://purl.org/dc/dcmitype/StillImage\"/>\n    <dc:date>2021-08-19T14:14:52.153682</dc:date>\n    <dc:format>image/svg+xml</dc:format>\n    <dc:creator>\n     <cc:Agent>\n      <dc:title>Matplotlib v3.4.2, https://matplotlib.org/</dc:title>\n     </cc:Agent>\n    </dc:creator>\n   </cc:Work>\n  </rdf:RDF>\n </metadata>\n <defs>\n  <style type=\"text/css\">*{stroke-linecap:butt;stroke-linejoin:round;}</style>\n </defs>\n <g id=\"figure_1\">\n  <g id=\"patch_1\">\n   <path d=\"M 0 262.19625 \nL 384.242741 262.19625 \nL 384.242741 0 \nL 0 0 \nz\n\" style=\"fill:none;\"/>\n  </g>\n  <g id=\"axes_1\">\n   <g id=\"patch_2\">\n    <path d=\"M 40.603125 224.64 \nL 375.403125 224.64 \nL 375.403125 7.2 \nL 40.603125 7.2 \nz\n\" style=\"fill:#ffffff;\"/>\n   </g>\n   <g id=\"matplotlib.axis_1\">\n    <g id=\"xtick_1\">\n     <g id=\"line2d_1\">\n      <path clip-path=\"url(#p058d82af5b)\" d=\"M 55.821307 224.64 \nL 55.821307 7.2 \n\" style=\"fill:none;stroke:#b0b0b0;stroke-linecap:square;stroke-width:0.8;\"/>\n     </g>\n     <g id=\"line2d_2\">\n      <defs>\n       <path d=\"M 0 0 \nL 0 3.5 \n\" id=\"m16a4d87a6f\" style=\"stroke:#000000;stroke-width:0.8;\"/>\n      </defs>\n      <g>\n       <use style=\"stroke:#000000;stroke-width:0.8;\" x=\"55.821307\" xlink:href=\"#m16a4d87a6f\" y=\"224.64\"/>\n      </g>\n     </g>\n     <g id=\"text_1\">\n      <!-- 0 -->\n      <g transform=\"translate(52.640057 239.238437)scale(0.1 -0.1)\">\n       <defs>\n        <path d=\"M 2034 4250 \nQ 1547 4250 1301 3770 \nQ 1056 3291 1056 2328 \nQ 1056 1369 1301 889 \nQ 1547 409 2034 409 \nQ 2525 409 2770 889 \nQ 3016 1369 3016 2328 \nQ 3016 3291 2770 3770 \nQ 2525 4250 2034 4250 \nz\nM 2034 4750 \nQ 2819 4750 3233 4129 \nQ 3647 3509 3647 2328 \nQ 3647 1150 3233 529 \nQ 2819 -91 2034 -91 \nQ 1250 -91 836 529 \nQ 422 1150 422 2328 \nQ 422 3509 836 4129 \nQ 1250 4750 2034 4750 \nz\n\" id=\"DejaVuSans-30\" transform=\"scale(0.015625)\"/>\n       </defs>\n       <use xlink:href=\"#DejaVuSans-30\"/>\n      </g>\n     </g>\n    </g>\n    <g id=\"xtick_2\">\n     <g id=\"line2d_3\">\n      <path clip-path=\"url(#p058d82af5b)\" d=\"M 108.297796 224.64 \nL 108.297796 7.2 \n\" style=\"fill:none;stroke:#b0b0b0;stroke-linecap:square;stroke-width:0.8;\"/>\n     </g>\n     <g id=\"line2d_4\">\n      <g>\n       <use style=\"stroke:#000000;stroke-width:0.8;\" x=\"108.297796\" xlink:href=\"#m16a4d87a6f\" y=\"224.64\"/>\n      </g>\n     </g>\n     <g id=\"text_2\">\n      <!-- 5 -->\n      <g transform=\"translate(105.116546 239.238437)scale(0.1 -0.1)\">\n       <defs>\n        <path d=\"M 691 4666 \nL 3169 4666 \nL 3169 4134 \nL 1269 4134 \nL 1269 2991 \nQ 1406 3038 1543 3061 \nQ 1681 3084 1819 3084 \nQ 2600 3084 3056 2656 \nQ 3513 2228 3513 1497 \nQ 3513 744 3044 326 \nQ 2575 -91 1722 -91 \nQ 1428 -91 1123 -41 \nQ 819 9 494 109 \nL 494 744 \nQ 775 591 1075 516 \nQ 1375 441 1709 441 \nQ 2250 441 2565 725 \nQ 2881 1009 2881 1497 \nQ 2881 1984 2565 2268 \nQ 2250 2553 1709 2553 \nQ 1456 2553 1204 2497 \nQ 953 2441 691 2322 \nL 691 4666 \nz\n\" id=\"DejaVuSans-35\" transform=\"scale(0.015625)\"/>\n       </defs>\n       <use xlink:href=\"#DejaVuSans-35\"/>\n      </g>\n     </g>\n    </g>\n    <g id=\"xtick_3\">\n     <g id=\"line2d_5\">\n      <path clip-path=\"url(#p058d82af5b)\" d=\"M 160.774285 224.64 \nL 160.774285 7.2 \n\" style=\"fill:none;stroke:#b0b0b0;stroke-linecap:square;stroke-width:0.8;\"/>\n     </g>\n     <g id=\"line2d_6\">\n      <g>\n       <use style=\"stroke:#000000;stroke-width:0.8;\" x=\"160.774285\" xlink:href=\"#m16a4d87a6f\" y=\"224.64\"/>\n      </g>\n     </g>\n     <g id=\"text_3\">\n      <!-- 10 -->\n      <g transform=\"translate(154.411785 239.238437)scale(0.1 -0.1)\">\n       <defs>\n        <path d=\"M 794 531 \nL 1825 531 \nL 1825 4091 \nL 703 3866 \nL 703 4441 \nL 1819 4666 \nL 2450 4666 \nL 2450 531 \nL 3481 531 \nL 3481 0 \nL 794 0 \nL 794 531 \nz\n\" id=\"DejaVuSans-31\" transform=\"scale(0.015625)\"/>\n       </defs>\n       <use xlink:href=\"#DejaVuSans-31\"/>\n       <use x=\"63.623047\" xlink:href=\"#DejaVuSans-30\"/>\n      </g>\n     </g>\n    </g>\n    <g id=\"xtick_4\">\n     <g id=\"line2d_7\">\n      <path clip-path=\"url(#p058d82af5b)\" d=\"M 213.250774 224.64 \nL 213.250774 7.2 \n\" style=\"fill:none;stroke:#b0b0b0;stroke-linecap:square;stroke-width:0.8;\"/>\n     </g>\n     <g id=\"line2d_8\">\n      <g>\n       <use style=\"stroke:#000000;stroke-width:0.8;\" x=\"213.250774\" xlink:href=\"#m16a4d87a6f\" y=\"224.64\"/>\n      </g>\n     </g>\n     <g id=\"text_4\">\n      <!-- 15 -->\n      <g transform=\"translate(206.888274 239.238437)scale(0.1 -0.1)\">\n       <use xlink:href=\"#DejaVuSans-31\"/>\n       <use x=\"63.623047\" xlink:href=\"#DejaVuSans-35\"/>\n      </g>\n     </g>\n    </g>\n    <g id=\"xtick_5\">\n     <g id=\"line2d_9\">\n      <path clip-path=\"url(#p058d82af5b)\" d=\"M 265.727263 224.64 \nL 265.727263 7.2 \n\" style=\"fill:none;stroke:#b0b0b0;stroke-linecap:square;stroke-width:0.8;\"/>\n     </g>\n     <g id=\"line2d_10\">\n      <g>\n       <use style=\"stroke:#000000;stroke-width:0.8;\" x=\"265.727263\" xlink:href=\"#m16a4d87a6f\" y=\"224.64\"/>\n      </g>\n     </g>\n     <g id=\"text_5\">\n      <!-- 20 -->\n      <g transform=\"translate(259.364763 239.238437)scale(0.1 -0.1)\">\n       <defs>\n        <path d=\"M 1228 531 \nL 3431 531 \nL 3431 0 \nL 469 0 \nL 469 531 \nQ 828 903 1448 1529 \nQ 2069 2156 2228 2338 \nQ 2531 2678 2651 2914 \nQ 2772 3150 2772 3378 \nQ 2772 3750 2511 3984 \nQ 2250 4219 1831 4219 \nQ 1534 4219 1204 4116 \nQ 875 4013 500 3803 \nL 500 4441 \nQ 881 4594 1212 4672 \nQ 1544 4750 1819 4750 \nQ 2544 4750 2975 4387 \nQ 3406 4025 3406 3419 \nQ 3406 3131 3298 2873 \nQ 3191 2616 2906 2266 \nQ 2828 2175 2409 1742 \nQ 1991 1309 1228 531 \nz\n\" id=\"DejaVuSans-32\" transform=\"scale(0.015625)\"/>\n       </defs>\n       <use xlink:href=\"#DejaVuSans-32\"/>\n       <use x=\"63.623047\" xlink:href=\"#DejaVuSans-30\"/>\n      </g>\n     </g>\n    </g>\n    <g id=\"xtick_6\">\n     <g id=\"line2d_11\">\n      <path clip-path=\"url(#p058d82af5b)\" d=\"M 318.203752 224.64 \nL 318.203752 7.2 \n\" style=\"fill:none;stroke:#b0b0b0;stroke-linecap:square;stroke-width:0.8;\"/>\n     </g>\n     <g id=\"line2d_12\">\n      <g>\n       <use style=\"stroke:#000000;stroke-width:0.8;\" x=\"318.203752\" xlink:href=\"#m16a4d87a6f\" y=\"224.64\"/>\n      </g>\n     </g>\n     <g id=\"text_6\">\n      <!-- 25 -->\n      <g transform=\"translate(311.841252 239.238437)scale(0.1 -0.1)\">\n       <use xlink:href=\"#DejaVuSans-32\"/>\n       <use x=\"63.623047\" xlink:href=\"#DejaVuSans-35\"/>\n      </g>\n     </g>\n    </g>\n    <g id=\"xtick_7\">\n     <g id=\"line2d_13\">\n      <path clip-path=\"url(#p058d82af5b)\" d=\"M 370.680241 224.64 \nL 370.680241 7.2 \n\" style=\"fill:none;stroke:#b0b0b0;stroke-linecap:square;stroke-width:0.8;\"/>\n     </g>\n     <g id=\"line2d_14\">\n      <g>\n       <use style=\"stroke:#000000;stroke-width:0.8;\" x=\"370.680241\" xlink:href=\"#m16a4d87a6f\" y=\"224.64\"/>\n      </g>\n     </g>\n     <g id=\"text_7\">\n      <!-- 30 -->\n      <g transform=\"translate(364.317741 239.238437)scale(0.1 -0.1)\">\n       <defs>\n        <path d=\"M 2597 2516 \nQ 3050 2419 3304 2112 \nQ 3559 1806 3559 1356 \nQ 3559 666 3084 287 \nQ 2609 -91 1734 -91 \nQ 1441 -91 1130 -33 \nQ 819 25 488 141 \nL 488 750 \nQ 750 597 1062 519 \nQ 1375 441 1716 441 \nQ 2309 441 2620 675 \nQ 2931 909 2931 1356 \nQ 2931 1769 2642 2001 \nQ 2353 2234 1838 2234 \nL 1294 2234 \nL 1294 2753 \nL 1863 2753 \nQ 2328 2753 2575 2939 \nQ 2822 3125 2822 3475 \nQ 2822 3834 2567 4026 \nQ 2313 4219 1838 4219 \nQ 1578 4219 1281 4162 \nQ 984 4106 628 3988 \nL 628 4550 \nQ 988 4650 1302 4700 \nQ 1616 4750 1894 4750 \nQ 2613 4750 3031 4423 \nQ 3450 4097 3450 3541 \nQ 3450 3153 3228 2886 \nQ 3006 2619 2597 2516 \nz\n\" id=\"DejaVuSans-33\" transform=\"scale(0.015625)\"/>\n       </defs>\n       <use xlink:href=\"#DejaVuSans-33\"/>\n       <use x=\"63.623047\" xlink:href=\"#DejaVuSans-30\"/>\n      </g>\n     </g>\n    </g>\n    <g id=\"text_8\">\n     <!-- epoch -->\n     <g transform=\"translate(192.775 252.916562)scale(0.1 -0.1)\">\n      <defs>\n       <path d=\"M 3597 1894 \nL 3597 1613 \nL 953 1613 \nQ 991 1019 1311 708 \nQ 1631 397 2203 397 \nQ 2534 397 2845 478 \nQ 3156 559 3463 722 \nL 3463 178 \nQ 3153 47 2828 -22 \nQ 2503 -91 2169 -91 \nQ 1331 -91 842 396 \nQ 353 884 353 1716 \nQ 353 2575 817 3079 \nQ 1281 3584 2069 3584 \nQ 2775 3584 3186 3129 \nQ 3597 2675 3597 1894 \nz\nM 3022 2063 \nQ 3016 2534 2758 2815 \nQ 2500 3097 2075 3097 \nQ 1594 3097 1305 2825 \nQ 1016 2553 972 2059 \nL 3022 2063 \nz\n\" id=\"DejaVuSans-65\" transform=\"scale(0.015625)\"/>\n       <path d=\"M 1159 525 \nL 1159 -1331 \nL 581 -1331 \nL 581 3500 \nL 1159 3500 \nL 1159 2969 \nQ 1341 3281 1617 3432 \nQ 1894 3584 2278 3584 \nQ 2916 3584 3314 3078 \nQ 3713 2572 3713 1747 \nQ 3713 922 3314 415 \nQ 2916 -91 2278 -91 \nQ 1894 -91 1617 61 \nQ 1341 213 1159 525 \nz\nM 3116 1747 \nQ 3116 2381 2855 2742 \nQ 2594 3103 2138 3103 \nQ 1681 3103 1420 2742 \nQ 1159 2381 1159 1747 \nQ 1159 1113 1420 752 \nQ 1681 391 2138 391 \nQ 2594 391 2855 752 \nQ 3116 1113 3116 1747 \nz\n\" id=\"DejaVuSans-70\" transform=\"scale(0.015625)\"/>\n       <path d=\"M 1959 3097 \nQ 1497 3097 1228 2736 \nQ 959 2375 959 1747 \nQ 959 1119 1226 758 \nQ 1494 397 1959 397 \nQ 2419 397 2687 759 \nQ 2956 1122 2956 1747 \nQ 2956 2369 2687 2733 \nQ 2419 3097 1959 3097 \nz\nM 1959 3584 \nQ 2709 3584 3137 3096 \nQ 3566 2609 3566 1747 \nQ 3566 888 3137 398 \nQ 2709 -91 1959 -91 \nQ 1206 -91 779 398 \nQ 353 888 353 1747 \nQ 353 2609 779 3096 \nQ 1206 3584 1959 3584 \nz\n\" id=\"DejaVuSans-6f\" transform=\"scale(0.015625)\"/>\n       <path d=\"M 3122 3366 \nL 3122 2828 \nQ 2878 2963 2633 3030 \nQ 2388 3097 2138 3097 \nQ 1578 3097 1268 2742 \nQ 959 2388 959 1747 \nQ 959 1106 1268 751 \nQ 1578 397 2138 397 \nQ 2388 397 2633 464 \nQ 2878 531 3122 666 \nL 3122 134 \nQ 2881 22 2623 -34 \nQ 2366 -91 2075 -91 \nQ 1284 -91 818 406 \nQ 353 903 353 1747 \nQ 353 2603 823 3093 \nQ 1294 3584 2113 3584 \nQ 2378 3584 2631 3529 \nQ 2884 3475 3122 3366 \nz\n\" id=\"DejaVuSans-63\" transform=\"scale(0.015625)\"/>\n       <path d=\"M 3513 2113 \nL 3513 0 \nL 2938 0 \nL 2938 2094 \nQ 2938 2591 2744 2837 \nQ 2550 3084 2163 3084 \nQ 1697 3084 1428 2787 \nQ 1159 2491 1159 1978 \nL 1159 0 \nL 581 0 \nL 581 4863 \nL 1159 4863 \nL 1159 2956 \nQ 1366 3272 1645 3428 \nQ 1925 3584 2291 3584 \nQ 2894 3584 3203 3211 \nQ 3513 2838 3513 2113 \nz\n\" id=\"DejaVuSans-68\" transform=\"scale(0.015625)\"/>\n      </defs>\n      <use xlink:href=\"#DejaVuSans-65\"/>\n      <use x=\"61.523438\" xlink:href=\"#DejaVuSans-70\"/>\n      <use x=\"125\" xlink:href=\"#DejaVuSans-6f\"/>\n      <use x=\"186.181641\" xlink:href=\"#DejaVuSans-63\"/>\n      <use x=\"241.162109\" xlink:href=\"#DejaVuSans-68\"/>\n     </g>\n    </g>\n   </g>\n   <g id=\"matplotlib.axis_2\">\n    <g id=\"ytick_1\">\n     <g id=\"line2d_15\">\n      <path clip-path=\"url(#p058d82af5b)\" d=\"M 40.603125 214.75767 \nL 375.403125 214.75767 \n\" style=\"fill:none;stroke:#b0b0b0;stroke-linecap:square;stroke-width:0.8;\"/>\n     </g>\n     <g id=\"line2d_16\">\n      <defs>\n       <path d=\"M 0 0 \nL -3.5 0 \n\" id=\"m702b9f153c\" style=\"stroke:#000000;stroke-width:0.8;\"/>\n      </defs>\n      <g>\n       <use style=\"stroke:#000000;stroke-width:0.8;\" x=\"40.603125\" xlink:href=\"#m702b9f153c\" y=\"214.75767\"/>\n      </g>\n     </g>\n     <g id=\"text_9\">\n      <!-- 0 -->\n      <g transform=\"translate(27.240625 218.556889)scale(0.1 -0.1)\">\n       <use xlink:href=\"#DejaVuSans-30\"/>\n      </g>\n     </g>\n    </g>\n    <g id=\"ytick_2\">\n     <g id=\"line2d_17\">\n      <path clip-path=\"url(#p058d82af5b)\" d=\"M 40.603125 188.599342 \nL 375.403125 188.599342 \n\" style=\"fill:none;stroke:#b0b0b0;stroke-linecap:square;stroke-width:0.8;\"/>\n     </g>\n     <g id=\"line2d_18\">\n      <g>\n       <use style=\"stroke:#000000;stroke-width:0.8;\" x=\"40.603125\" xlink:href=\"#m702b9f153c\" y=\"188.599342\"/>\n      </g>\n     </g>\n     <g id=\"text_10\">\n      <!-- 2 -->\n      <g transform=\"translate(27.240625 192.398561)scale(0.1 -0.1)\">\n       <use xlink:href=\"#DejaVuSans-32\"/>\n      </g>\n     </g>\n    </g>\n    <g id=\"ytick_3\">\n     <g id=\"line2d_19\">\n      <path clip-path=\"url(#p058d82af5b)\" d=\"M 40.603125 162.441015 \nL 375.403125 162.441015 \n\" style=\"fill:none;stroke:#b0b0b0;stroke-linecap:square;stroke-width:0.8;\"/>\n     </g>\n     <g id=\"line2d_20\">\n      <g>\n       <use style=\"stroke:#000000;stroke-width:0.8;\" x=\"40.603125\" xlink:href=\"#m702b9f153c\" y=\"162.441015\"/>\n      </g>\n     </g>\n     <g id=\"text_11\">\n      <!-- 4 -->\n      <g transform=\"translate(27.240625 166.240233)scale(0.1 -0.1)\">\n       <defs>\n        <path d=\"M 2419 4116 \nL 825 1625 \nL 2419 1625 \nL 2419 4116 \nz\nM 2253 4666 \nL 3047 4666 \nL 3047 1625 \nL 3713 1625 \nL 3713 1100 \nL 3047 1100 \nL 3047 0 \nL 2419 0 \nL 2419 1100 \nL 313 1100 \nL 313 1709 \nL 2253 4666 \nz\n\" id=\"DejaVuSans-34\" transform=\"scale(0.015625)\"/>\n       </defs>\n       <use xlink:href=\"#DejaVuSans-34\"/>\n      </g>\n     </g>\n    </g>\n    <g id=\"ytick_4\">\n     <g id=\"line2d_21\">\n      <path clip-path=\"url(#p058d82af5b)\" d=\"M 40.603125 136.282687 \nL 375.403125 136.282687 \n\" style=\"fill:none;stroke:#b0b0b0;stroke-linecap:square;stroke-width:0.8;\"/>\n     </g>\n     <g id=\"line2d_22\">\n      <g>\n       <use style=\"stroke:#000000;stroke-width:0.8;\" x=\"40.603125\" xlink:href=\"#m702b9f153c\" y=\"136.282687\"/>\n      </g>\n     </g>\n     <g id=\"text_12\">\n      <!-- 6 -->\n      <g transform=\"translate(27.240625 140.081906)scale(0.1 -0.1)\">\n       <defs>\n        <path d=\"M 2113 2584 \nQ 1688 2584 1439 2293 \nQ 1191 2003 1191 1497 \nQ 1191 994 1439 701 \nQ 1688 409 2113 409 \nQ 2538 409 2786 701 \nQ 3034 994 3034 1497 \nQ 3034 2003 2786 2293 \nQ 2538 2584 2113 2584 \nz\nM 3366 4563 \nL 3366 3988 \nQ 3128 4100 2886 4159 \nQ 2644 4219 2406 4219 \nQ 1781 4219 1451 3797 \nQ 1122 3375 1075 2522 \nQ 1259 2794 1537 2939 \nQ 1816 3084 2150 3084 \nQ 2853 3084 3261 2657 \nQ 3669 2231 3669 1497 \nQ 3669 778 3244 343 \nQ 2819 -91 2113 -91 \nQ 1303 -91 875 529 \nQ 447 1150 447 2328 \nQ 447 3434 972 4092 \nQ 1497 4750 2381 4750 \nQ 2619 4750 2861 4703 \nQ 3103 4656 3366 4563 \nz\n\" id=\"DejaVuSans-36\" transform=\"scale(0.015625)\"/>\n       </defs>\n       <use xlink:href=\"#DejaVuSans-36\"/>\n      </g>\n     </g>\n    </g>\n    <g id=\"ytick_5\">\n     <g id=\"line2d_23\">\n      <path clip-path=\"url(#p058d82af5b)\" d=\"M 40.603125 110.124359 \nL 375.403125 110.124359 \n\" style=\"fill:none;stroke:#b0b0b0;stroke-linecap:square;stroke-width:0.8;\"/>\n     </g>\n     <g id=\"line2d_24\">\n      <g>\n       <use style=\"stroke:#000000;stroke-width:0.8;\" x=\"40.603125\" xlink:href=\"#m702b9f153c\" y=\"110.124359\"/>\n      </g>\n     </g>\n     <g id=\"text_13\">\n      <!-- 8 -->\n      <g transform=\"translate(27.240625 113.923578)scale(0.1 -0.1)\">\n       <defs>\n        <path d=\"M 2034 2216 \nQ 1584 2216 1326 1975 \nQ 1069 1734 1069 1313 \nQ 1069 891 1326 650 \nQ 1584 409 2034 409 \nQ 2484 409 2743 651 \nQ 3003 894 3003 1313 \nQ 3003 1734 2745 1975 \nQ 2488 2216 2034 2216 \nz\nM 1403 2484 \nQ 997 2584 770 2862 \nQ 544 3141 544 3541 \nQ 544 4100 942 4425 \nQ 1341 4750 2034 4750 \nQ 2731 4750 3128 4425 \nQ 3525 4100 3525 3541 \nQ 3525 3141 3298 2862 \nQ 3072 2584 2669 2484 \nQ 3125 2378 3379 2068 \nQ 3634 1759 3634 1313 \nQ 3634 634 3220 271 \nQ 2806 -91 2034 -91 \nQ 1263 -91 848 271 \nQ 434 634 434 1313 \nQ 434 1759 690 2068 \nQ 947 2378 1403 2484 \nz\nM 1172 3481 \nQ 1172 3119 1398 2916 \nQ 1625 2713 2034 2713 \nQ 2441 2713 2670 2916 \nQ 2900 3119 2900 3481 \nQ 2900 3844 2670 4047 \nQ 2441 4250 2034 4250 \nQ 1625 4250 1398 4047 \nQ 1172 3844 1172 3481 \nz\n\" id=\"DejaVuSans-38\" transform=\"scale(0.015625)\"/>\n       </defs>\n       <use xlink:href=\"#DejaVuSans-38\"/>\n      </g>\n     </g>\n    </g>\n    <g id=\"ytick_6\">\n     <g id=\"line2d_25\">\n      <path clip-path=\"url(#p058d82af5b)\" d=\"M 40.603125 83.966032 \nL 375.403125 83.966032 \n\" style=\"fill:none;stroke:#b0b0b0;stroke-linecap:square;stroke-width:0.8;\"/>\n     </g>\n     <g id=\"line2d_26\">\n      <g>\n       <use style=\"stroke:#000000;stroke-width:0.8;\" x=\"40.603125\" xlink:href=\"#m702b9f153c\" y=\"83.966032\"/>\n      </g>\n     </g>\n     <g id=\"text_14\">\n      <!-- 10 -->\n      <g transform=\"translate(20.878125 87.76525)scale(0.1 -0.1)\">\n       <use xlink:href=\"#DejaVuSans-31\"/>\n       <use x=\"63.623047\" xlink:href=\"#DejaVuSans-30\"/>\n      </g>\n     </g>\n    </g>\n    <g id=\"ytick_7\">\n     <g id=\"line2d_27\">\n      <path clip-path=\"url(#p058d82af5b)\" d=\"M 40.603125 57.807704 \nL 375.403125 57.807704 \n\" style=\"fill:none;stroke:#b0b0b0;stroke-linecap:square;stroke-width:0.8;\"/>\n     </g>\n     <g id=\"line2d_28\">\n      <g>\n       <use style=\"stroke:#000000;stroke-width:0.8;\" x=\"40.603125\" xlink:href=\"#m702b9f153c\" y=\"57.807704\"/>\n      </g>\n     </g>\n     <g id=\"text_15\">\n      <!-- 12 -->\n      <g transform=\"translate(20.878125 61.606923)scale(0.1 -0.1)\">\n       <use xlink:href=\"#DejaVuSans-31\"/>\n       <use x=\"63.623047\" xlink:href=\"#DejaVuSans-32\"/>\n      </g>\n     </g>\n    </g>\n    <g id=\"ytick_8\">\n     <g id=\"line2d_29\">\n      <path clip-path=\"url(#p058d82af5b)\" d=\"M 40.603125 31.649376 \nL 375.403125 31.649376 \n\" style=\"fill:none;stroke:#b0b0b0;stroke-linecap:square;stroke-width:0.8;\"/>\n     </g>\n     <g id=\"line2d_30\">\n      <g>\n       <use style=\"stroke:#000000;stroke-width:0.8;\" x=\"40.603125\" xlink:href=\"#m702b9f153c\" y=\"31.649376\"/>\n      </g>\n     </g>\n     <g id=\"text_16\">\n      <!-- 14 -->\n      <g transform=\"translate(20.878125 35.448595)scale(0.1 -0.1)\">\n       <use xlink:href=\"#DejaVuSans-31\"/>\n       <use x=\"63.623047\" xlink:href=\"#DejaVuSans-34\"/>\n      </g>\n     </g>\n    </g>\n    <g id=\"text_17\">\n     <!-- loss -->\n     <g transform=\"translate(14.798438 125.577812)rotate(-90)scale(0.1 -0.1)\">\n      <defs>\n       <path d=\"M 603 4863 \nL 1178 4863 \nL 1178 0 \nL 603 0 \nL 603 4863 \nz\n\" id=\"DejaVuSans-6c\" transform=\"scale(0.015625)\"/>\n       <path d=\"M 2834 3397 \nL 2834 2853 \nQ 2591 2978 2328 3040 \nQ 2066 3103 1784 3103 \nQ 1356 3103 1142 2972 \nQ 928 2841 928 2578 \nQ 928 2378 1081 2264 \nQ 1234 2150 1697 2047 \nL 1894 2003 \nQ 2506 1872 2764 1633 \nQ 3022 1394 3022 966 \nQ 3022 478 2636 193 \nQ 2250 -91 1575 -91 \nQ 1294 -91 989 -36 \nQ 684 19 347 128 \nL 347 722 \nQ 666 556 975 473 \nQ 1284 391 1588 391 \nQ 1994 391 2212 530 \nQ 2431 669 2431 922 \nQ 2431 1156 2273 1281 \nQ 2116 1406 1581 1522 \nL 1381 1569 \nQ 847 1681 609 1914 \nQ 372 2147 372 2553 \nQ 372 3047 722 3315 \nQ 1072 3584 1716 3584 \nQ 2034 3584 2315 3537 \nQ 2597 3491 2834 3397 \nz\n\" id=\"DejaVuSans-73\" transform=\"scale(0.015625)\"/>\n      </defs>\n      <use xlink:href=\"#DejaVuSans-6c\"/>\n      <use x=\"27.783203\" xlink:href=\"#DejaVuSans-6f\"/>\n      <use x=\"88.964844\" xlink:href=\"#DejaVuSans-73\"/>\n      <use x=\"141.064453\" xlink:href=\"#DejaVuSans-73\"/>\n     </g>\n    </g>\n   </g>\n   <g id=\"line2d_31\">\n    <path clip-path=\"url(#p058d82af5b)\" d=\"M 55.821307 198.128918 \nL 66.316605 204.876634 \nL 76.811902 206.744197 \nL 87.3072 207.317779 \nL 97.802498 207.87966 \nL 108.297796 208.022135 \nL 118.793094 208.167939 \nL 129.288391 208.403749 \nL 139.783689 208.402504 \nL 150.278987 208.505222 \nL 160.774285 208.551892 \nL 171.269583 208.563594 \nL 181.76488 208.559818 \nL 192.260178 208.56915 \nL 202.755476 208.565482 \nL 213.250774 208.571725 \nL 223.746072 208.569893 \nL 234.24137 208.569928 \nL 244.736667 208.576363 \nL 255.231965 208.575133 \nL 265.727263 208.575785 \nL 276.222561 208.577433 \nL 286.717859 208.580325 \nL 297.213156 208.581725 \nL 307.708454 208.583566 \nL 318.203752 208.582038 \nL 328.69905 208.584628 \nL 339.194348 208.585121 \nL 349.689645 208.586305 \nL 360.184943 208.58858 \n\" style=\"fill:none;stroke:#ff0000;stroke-linecap:square;stroke-width:1.5;\"/>\n    <defs>\n     <path d=\"M 0 1.5 \nC 0.397805 1.5 0.77937 1.341951 1.06066 1.06066 \nC 1.341951 0.77937 1.5 0.397805 1.5 0 \nC 1.5 -0.397805 1.341951 -0.77937 1.06066 -1.06066 \nC 0.77937 -1.341951 0.397805 -1.5 0 -1.5 \nC -0.397805 -1.5 -0.77937 -1.341951 -1.06066 -1.06066 \nC -1.341951 -0.77937 -1.5 -0.397805 -1.5 0 \nC -1.5 0.397805 -1.341951 0.77937 -1.06066 1.06066 \nC -0.77937 1.341951 -0.397805 1.5 0 1.5 \nz\n\" id=\"m71ce5b87f9\" style=\"stroke:#ff0000;\"/>\n    </defs>\n    <g clip-path=\"url(#p058d82af5b)\">\n     <use style=\"fill:#ff0000;stroke:#ff0000;\" x=\"55.821307\" xlink:href=\"#m71ce5b87f9\" y=\"198.128918\"/>\n     <use style=\"fill:#ff0000;stroke:#ff0000;\" x=\"66.316605\" xlink:href=\"#m71ce5b87f9\" y=\"204.876634\"/>\n     <use style=\"fill:#ff0000;stroke:#ff0000;\" x=\"76.811902\" xlink:href=\"#m71ce5b87f9\" y=\"206.744197\"/>\n     <use style=\"fill:#ff0000;stroke:#ff0000;\" x=\"87.3072\" xlink:href=\"#m71ce5b87f9\" y=\"207.317779\"/>\n     <use style=\"fill:#ff0000;stroke:#ff0000;\" x=\"97.802498\" xlink:href=\"#m71ce5b87f9\" y=\"207.87966\"/>\n     <use style=\"fill:#ff0000;stroke:#ff0000;\" x=\"108.297796\" xlink:href=\"#m71ce5b87f9\" y=\"208.022135\"/>\n     <use style=\"fill:#ff0000;stroke:#ff0000;\" x=\"118.793094\" xlink:href=\"#m71ce5b87f9\" y=\"208.167939\"/>\n     <use style=\"fill:#ff0000;stroke:#ff0000;\" x=\"129.288391\" xlink:href=\"#m71ce5b87f9\" y=\"208.403749\"/>\n     <use style=\"fill:#ff0000;stroke:#ff0000;\" x=\"139.783689\" xlink:href=\"#m71ce5b87f9\" y=\"208.402504\"/>\n     <use style=\"fill:#ff0000;stroke:#ff0000;\" x=\"150.278987\" xlink:href=\"#m71ce5b87f9\" y=\"208.505222\"/>\n     <use style=\"fill:#ff0000;stroke:#ff0000;\" x=\"160.774285\" xlink:href=\"#m71ce5b87f9\" y=\"208.551892\"/>\n     <use style=\"fill:#ff0000;stroke:#ff0000;\" x=\"171.269583\" xlink:href=\"#m71ce5b87f9\" y=\"208.563594\"/>\n     <use style=\"fill:#ff0000;stroke:#ff0000;\" x=\"181.76488\" xlink:href=\"#m71ce5b87f9\" y=\"208.559818\"/>\n     <use style=\"fill:#ff0000;stroke:#ff0000;\" x=\"192.260178\" xlink:href=\"#m71ce5b87f9\" y=\"208.56915\"/>\n     <use style=\"fill:#ff0000;stroke:#ff0000;\" x=\"202.755476\" xlink:href=\"#m71ce5b87f9\" y=\"208.565482\"/>\n     <use style=\"fill:#ff0000;stroke:#ff0000;\" x=\"213.250774\" xlink:href=\"#m71ce5b87f9\" y=\"208.571725\"/>\n     <use style=\"fill:#ff0000;stroke:#ff0000;\" x=\"223.746072\" xlink:href=\"#m71ce5b87f9\" y=\"208.569893\"/>\n     <use style=\"fill:#ff0000;stroke:#ff0000;\" x=\"234.24137\" xlink:href=\"#m71ce5b87f9\" y=\"208.569928\"/>\n     <use style=\"fill:#ff0000;stroke:#ff0000;\" x=\"244.736667\" xlink:href=\"#m71ce5b87f9\" y=\"208.576363\"/>\n     <use style=\"fill:#ff0000;stroke:#ff0000;\" x=\"255.231965\" xlink:href=\"#m71ce5b87f9\" y=\"208.575133\"/>\n     <use style=\"fill:#ff0000;stroke:#ff0000;\" x=\"265.727263\" xlink:href=\"#m71ce5b87f9\" y=\"208.575785\"/>\n     <use style=\"fill:#ff0000;stroke:#ff0000;\" x=\"276.222561\" xlink:href=\"#m71ce5b87f9\" y=\"208.577433\"/>\n     <use style=\"fill:#ff0000;stroke:#ff0000;\" x=\"286.717859\" xlink:href=\"#m71ce5b87f9\" y=\"208.580325\"/>\n     <use style=\"fill:#ff0000;stroke:#ff0000;\" x=\"297.213156\" xlink:href=\"#m71ce5b87f9\" y=\"208.581725\"/>\n     <use style=\"fill:#ff0000;stroke:#ff0000;\" x=\"307.708454\" xlink:href=\"#m71ce5b87f9\" y=\"208.583566\"/>\n     <use style=\"fill:#ff0000;stroke:#ff0000;\" x=\"318.203752\" xlink:href=\"#m71ce5b87f9\" y=\"208.582038\"/>\n     <use style=\"fill:#ff0000;stroke:#ff0000;\" x=\"328.69905\" xlink:href=\"#m71ce5b87f9\" y=\"208.584628\"/>\n     <use style=\"fill:#ff0000;stroke:#ff0000;\" x=\"339.194348\" xlink:href=\"#m71ce5b87f9\" y=\"208.585121\"/>\n     <use style=\"fill:#ff0000;stroke:#ff0000;\" x=\"349.689645\" xlink:href=\"#m71ce5b87f9\" y=\"208.586305\"/>\n     <use style=\"fill:#ff0000;stroke:#ff0000;\" x=\"360.184943\" xlink:href=\"#m71ce5b87f9\" y=\"208.58858\"/>\n    </g>\n   </g>\n   <g id=\"line2d_32\">\n    <path clip-path=\"url(#p058d82af5b)\" d=\"M 55.821307 17.083636 \nL 66.316605 203.895276 \nL 76.811902 209.855206 \nL 87.3072 212.174238 \nL 97.802498 213.402896 \nL 108.297796 214.01394 \nL 118.793094 214.387741 \nL 129.288391 214.588087 \nL 139.783689 214.683221 \nL 150.278987 214.729431 \nL 160.774285 214.746618 \nL 171.269583 214.752256 \nL 181.76488 214.753463 \nL 192.260178 214.754065 \nL 202.755476 214.754428 \nL 213.250774 214.754717 \nL 223.746072 214.754947 \nL 234.24137 214.755141 \nL 244.736667 214.755315 \nL 255.231965 214.755468 \nL 265.727263 214.755596 \nL 276.222561 214.755716 \nL 286.717859 214.755822 \nL 297.213156 214.755926 \nL 307.708454 214.75601 \nL 318.203752 214.756088 \nL 328.69905 214.756168 \nL 339.194348 214.756238 \nL 349.689645 214.756303 \nL 360.184943 214.756364 \n\" style=\"fill:none;stroke:#0000ff;stroke-linecap:square;stroke-width:1.5;\"/>\n    <defs>\n     <path d=\"M 0 1.5 \nC 0.397805 1.5 0.77937 1.341951 1.06066 1.06066 \nC 1.341951 0.77937 1.5 0.397805 1.5 0 \nC 1.5 -0.397805 1.341951 -0.77937 1.06066 -1.06066 \nC 0.77937 -1.341951 0.397805 -1.5 0 -1.5 \nC -0.397805 -1.5 -0.77937 -1.341951 -1.06066 -1.06066 \nC -1.341951 -0.77937 -1.5 -0.397805 -1.5 0 \nC -1.5 0.397805 -1.341951 0.77937 -1.06066 1.06066 \nC -0.77937 1.341951 -0.397805 1.5 0 1.5 \nz\n\" id=\"m15529c8fd8\" style=\"stroke:#0000ff;\"/>\n    </defs>\n    <g clip-path=\"url(#p058d82af5b)\">\n     <use style=\"fill:#0000ff;stroke:#0000ff;\" x=\"55.821307\" xlink:href=\"#m15529c8fd8\" y=\"17.083636\"/>\n     <use style=\"fill:#0000ff;stroke:#0000ff;\" x=\"66.316605\" xlink:href=\"#m15529c8fd8\" y=\"203.895276\"/>\n     <use style=\"fill:#0000ff;stroke:#0000ff;\" x=\"76.811902\" xlink:href=\"#m15529c8fd8\" y=\"209.855206\"/>\n     <use style=\"fill:#0000ff;stroke:#0000ff;\" x=\"87.3072\" xlink:href=\"#m15529c8fd8\" y=\"212.174238\"/>\n     <use style=\"fill:#0000ff;stroke:#0000ff;\" x=\"97.802498\" xlink:href=\"#m15529c8fd8\" y=\"213.402896\"/>\n     <use style=\"fill:#0000ff;stroke:#0000ff;\" x=\"108.297796\" xlink:href=\"#m15529c8fd8\" y=\"214.01394\"/>\n     <use style=\"fill:#0000ff;stroke:#0000ff;\" x=\"118.793094\" xlink:href=\"#m15529c8fd8\" y=\"214.387741\"/>\n     <use style=\"fill:#0000ff;stroke:#0000ff;\" x=\"129.288391\" xlink:href=\"#m15529c8fd8\" y=\"214.588087\"/>\n     <use style=\"fill:#0000ff;stroke:#0000ff;\" x=\"139.783689\" xlink:href=\"#m15529c8fd8\" y=\"214.683221\"/>\n     <use style=\"fill:#0000ff;stroke:#0000ff;\" x=\"150.278987\" xlink:href=\"#m15529c8fd8\" y=\"214.729431\"/>\n     <use style=\"fill:#0000ff;stroke:#0000ff;\" x=\"160.774285\" xlink:href=\"#m15529c8fd8\" y=\"214.746618\"/>\n     <use style=\"fill:#0000ff;stroke:#0000ff;\" x=\"171.269583\" xlink:href=\"#m15529c8fd8\" y=\"214.752256\"/>\n     <use style=\"fill:#0000ff;stroke:#0000ff;\" x=\"181.76488\" xlink:href=\"#m15529c8fd8\" y=\"214.753463\"/>\n     <use style=\"fill:#0000ff;stroke:#0000ff;\" x=\"192.260178\" xlink:href=\"#m15529c8fd8\" y=\"214.754065\"/>\n     <use style=\"fill:#0000ff;stroke:#0000ff;\" x=\"202.755476\" xlink:href=\"#m15529c8fd8\" y=\"214.754428\"/>\n     <use style=\"fill:#0000ff;stroke:#0000ff;\" x=\"213.250774\" xlink:href=\"#m15529c8fd8\" y=\"214.754717\"/>\n     <use style=\"fill:#0000ff;stroke:#0000ff;\" x=\"223.746072\" xlink:href=\"#m15529c8fd8\" y=\"214.754947\"/>\n     <use style=\"fill:#0000ff;stroke:#0000ff;\" x=\"234.24137\" xlink:href=\"#m15529c8fd8\" y=\"214.755141\"/>\n     <use style=\"fill:#0000ff;stroke:#0000ff;\" x=\"244.736667\" xlink:href=\"#m15529c8fd8\" y=\"214.755315\"/>\n     <use style=\"fill:#0000ff;stroke:#0000ff;\" x=\"255.231965\" xlink:href=\"#m15529c8fd8\" y=\"214.755468\"/>\n     <use style=\"fill:#0000ff;stroke:#0000ff;\" x=\"265.727263\" xlink:href=\"#m15529c8fd8\" y=\"214.755596\"/>\n     <use style=\"fill:#0000ff;stroke:#0000ff;\" x=\"276.222561\" xlink:href=\"#m15529c8fd8\" y=\"214.755716\"/>\n     <use style=\"fill:#0000ff;stroke:#0000ff;\" x=\"286.717859\" xlink:href=\"#m15529c8fd8\" y=\"214.755822\"/>\n     <use style=\"fill:#0000ff;stroke:#0000ff;\" x=\"297.213156\" xlink:href=\"#m15529c8fd8\" y=\"214.755926\"/>\n     <use style=\"fill:#0000ff;stroke:#0000ff;\" x=\"307.708454\" xlink:href=\"#m15529c8fd8\" y=\"214.75601\"/>\n     <use style=\"fill:#0000ff;stroke:#0000ff;\" x=\"318.203752\" xlink:href=\"#m15529c8fd8\" y=\"214.756088\"/>\n     <use style=\"fill:#0000ff;stroke:#0000ff;\" x=\"328.69905\" xlink:href=\"#m15529c8fd8\" y=\"214.756168\"/>\n     <use style=\"fill:#0000ff;stroke:#0000ff;\" x=\"339.194348\" xlink:href=\"#m15529c8fd8\" y=\"214.756238\"/>\n     <use style=\"fill:#0000ff;stroke:#0000ff;\" x=\"349.689645\" xlink:href=\"#m15529c8fd8\" y=\"214.756303\"/>\n     <use style=\"fill:#0000ff;stroke:#0000ff;\" x=\"360.184943\" xlink:href=\"#m15529c8fd8\" y=\"214.756364\"/>\n    </g>\n   </g>\n   <g id=\"patch_3\">\n    <path d=\"M 40.603125 224.64 \nL 40.603125 7.2 \n\" style=\"fill:none;stroke:#000000;stroke-linecap:square;stroke-linejoin:miter;stroke-width:0.8;\"/>\n   </g>\n   <g id=\"patch_4\">\n    <path d=\"M 375.403125 224.64 \nL 375.403125 7.2 \n\" style=\"fill:none;stroke:#000000;stroke-linecap:square;stroke-linejoin:miter;stroke-width:0.8;\"/>\n   </g>\n   <g id=\"patch_5\">\n    <path d=\"M 40.603125 224.64 \nL 375.403125 224.64 \n\" style=\"fill:none;stroke:#000000;stroke-linecap:square;stroke-linejoin:miter;stroke-width:0.8;\"/>\n   </g>\n   <g id=\"patch_6\">\n    <path d=\"M 40.603125 7.2 \nL 375.403125 7.2 \n\" style=\"fill:none;stroke:#000000;stroke-linecap:square;stroke-linejoin:miter;stroke-width:0.8;\"/>\n   </g>\n   <g id=\"legend_1\">\n    <g id=\"patch_7\">\n     <path d=\"M 272.817187 45.1125 \nL 368.403125 45.1125 \nQ 370.403125 45.1125 370.403125 43.1125 \nL 370.403125 14.2 \nQ 370.403125 12.2 368.403125 12.2 \nL 272.817187 12.2 \nQ 270.817187 12.2 270.817187 14.2 \nL 270.817187 43.1125 \nQ 270.817187 45.1125 272.817187 45.1125 \nz\n\" style=\"fill:#ffffff;opacity:0.8;stroke:#cccccc;stroke-linejoin:miter;\"/>\n    </g>\n    <g id=\"line2d_33\">\n     <path d=\"M 274.817187 20.298437 \nL 294.817187 20.298437 \n\" style=\"fill:none;stroke:#ff0000;stroke-linecap:square;stroke-width:1.5;\"/>\n    </g>\n    <g id=\"line2d_34\">\n     <g>\n      <use style=\"fill:#ff0000;stroke:#ff0000;\" x=\"284.817187\" xlink:href=\"#m71ce5b87f9\" y=\"20.298437\"/>\n     </g>\n    </g>\n    <g id=\"text_18\">\n     <!-- Testset_loss -->\n     <g transform=\"translate(302.817187 23.798437)scale(0.1 -0.1)\">\n      <defs>\n       <path d=\"M -19 4666 \nL 3928 4666 \nL 3928 4134 \nL 2272 4134 \nL 2272 0 \nL 1638 0 \nL 1638 4134 \nL -19 4134 \nL -19 4666 \nz\n\" id=\"DejaVuSans-54\" transform=\"scale(0.015625)\"/>\n       <path d=\"M 1172 4494 \nL 1172 3500 \nL 2356 3500 \nL 2356 3053 \nL 1172 3053 \nL 1172 1153 \nQ 1172 725 1289 603 \nQ 1406 481 1766 481 \nL 2356 481 \nL 2356 0 \nL 1766 0 \nQ 1100 0 847 248 \nQ 594 497 594 1153 \nL 594 3053 \nL 172 3053 \nL 172 3500 \nL 594 3500 \nL 594 4494 \nL 1172 4494 \nz\n\" id=\"DejaVuSans-74\" transform=\"scale(0.015625)\"/>\n       <path d=\"M 3263 -1063 \nL 3263 -1509 \nL -63 -1509 \nL -63 -1063 \nL 3263 -1063 \nz\n\" id=\"DejaVuSans-5f\" transform=\"scale(0.015625)\"/>\n      </defs>\n      <use xlink:href=\"#DejaVuSans-54\"/>\n      <use x=\"44.083984\" xlink:href=\"#DejaVuSans-65\"/>\n      <use x=\"105.607422\" xlink:href=\"#DejaVuSans-73\"/>\n      <use x=\"157.707031\" xlink:href=\"#DejaVuSans-74\"/>\n      <use x=\"196.916016\" xlink:href=\"#DejaVuSans-73\"/>\n      <use x=\"249.015625\" xlink:href=\"#DejaVuSans-65\"/>\n      <use x=\"310.539062\" xlink:href=\"#DejaVuSans-74\"/>\n      <use x=\"349.748047\" xlink:href=\"#DejaVuSans-5f\"/>\n      <use x=\"399.748047\" xlink:href=\"#DejaVuSans-6c\"/>\n      <use x=\"427.53125\" xlink:href=\"#DejaVuSans-6f\"/>\n      <use x=\"488.712891\" xlink:href=\"#DejaVuSans-73\"/>\n      <use x=\"540.8125\" xlink:href=\"#DejaVuSans-73\"/>\n     </g>\n    </g>\n    <g id=\"line2d_35\">\n     <path d=\"M 274.817187 35.254687 \nL 294.817187 35.254687 \n\" style=\"fill:none;stroke:#0000ff;stroke-linecap:square;stroke-width:1.5;\"/>\n    </g>\n    <g id=\"line2d_36\">\n     <g>\n      <use style=\"fill:#0000ff;stroke:#0000ff;\" x=\"284.817187\" xlink:href=\"#m15529c8fd8\" y=\"35.254687\"/>\n     </g>\n    </g>\n    <g id=\"text_19\">\n     <!-- Trainset_loss -->\n     <g transform=\"translate(302.817187 38.754687)scale(0.1 -0.1)\">\n      <defs>\n       <path d=\"M 2631 2963 \nQ 2534 3019 2420 3045 \nQ 2306 3072 2169 3072 \nQ 1681 3072 1420 2755 \nQ 1159 2438 1159 1844 \nL 1159 0 \nL 581 0 \nL 581 3500 \nL 1159 3500 \nL 1159 2956 \nQ 1341 3275 1631 3429 \nQ 1922 3584 2338 3584 \nQ 2397 3584 2469 3576 \nQ 2541 3569 2628 3553 \nL 2631 2963 \nz\n\" id=\"DejaVuSans-72\" transform=\"scale(0.015625)\"/>\n       <path d=\"M 2194 1759 \nQ 1497 1759 1228 1600 \nQ 959 1441 959 1056 \nQ 959 750 1161 570 \nQ 1363 391 1709 391 \nQ 2188 391 2477 730 \nQ 2766 1069 2766 1631 \nL 2766 1759 \nL 2194 1759 \nz\nM 3341 1997 \nL 3341 0 \nL 2766 0 \nL 2766 531 \nQ 2569 213 2275 61 \nQ 1981 -91 1556 -91 \nQ 1019 -91 701 211 \nQ 384 513 384 1019 \nQ 384 1609 779 1909 \nQ 1175 2209 1959 2209 \nL 2766 2209 \nL 2766 2266 \nQ 2766 2663 2505 2880 \nQ 2244 3097 1772 3097 \nQ 1472 3097 1187 3025 \nQ 903 2953 641 2809 \nL 641 3341 \nQ 956 3463 1253 3523 \nQ 1550 3584 1831 3584 \nQ 2591 3584 2966 3190 \nQ 3341 2797 3341 1997 \nz\n\" id=\"DejaVuSans-61\" transform=\"scale(0.015625)\"/>\n       <path d=\"M 603 3500 \nL 1178 3500 \nL 1178 0 \nL 603 0 \nL 603 3500 \nz\nM 603 4863 \nL 1178 4863 \nL 1178 4134 \nL 603 4134 \nL 603 4863 \nz\n\" id=\"DejaVuSans-69\" transform=\"scale(0.015625)\"/>\n       <path d=\"M 3513 2113 \nL 3513 0 \nL 2938 0 \nL 2938 2094 \nQ 2938 2591 2744 2837 \nQ 2550 3084 2163 3084 \nQ 1697 3084 1428 2787 \nQ 1159 2491 1159 1978 \nL 1159 0 \nL 581 0 \nL 581 3500 \nL 1159 3500 \nL 1159 2956 \nQ 1366 3272 1645 3428 \nQ 1925 3584 2291 3584 \nQ 2894 3584 3203 3211 \nQ 3513 2838 3513 2113 \nz\n\" id=\"DejaVuSans-6e\" transform=\"scale(0.015625)\"/>\n      </defs>\n      <use xlink:href=\"#DejaVuSans-54\"/>\n      <use x=\"46.333984\" xlink:href=\"#DejaVuSans-72\"/>\n      <use x=\"87.447266\" xlink:href=\"#DejaVuSans-61\"/>\n      <use x=\"148.726562\" xlink:href=\"#DejaVuSans-69\"/>\n      <use x=\"176.509766\" xlink:href=\"#DejaVuSans-6e\"/>\n      <use x=\"239.888672\" xlink:href=\"#DejaVuSans-73\"/>\n      <use x=\"291.988281\" xlink:href=\"#DejaVuSans-65\"/>\n      <use x=\"353.511719\" xlink:href=\"#DejaVuSans-74\"/>\n      <use x=\"392.720703\" xlink:href=\"#DejaVuSans-5f\"/>\n      <use x=\"442.720703\" xlink:href=\"#DejaVuSans-6c\"/>\n      <use x=\"470.503906\" xlink:href=\"#DejaVuSans-6f\"/>\n      <use x=\"531.685547\" xlink:href=\"#DejaVuSans-73\"/>\n      <use x=\"583.785156\" xlink:href=\"#DejaVuSans-73\"/>\n     </g>\n    </g>\n   </g>\n  </g>\n </g>\n <defs>\n  <clipPath id=\"p058d82af5b\">\n   <rect height=\"217.44\" width=\"334.8\" x=\"40.603125\" y=\"7.2\"/>\n  </clipPath>\n </defs>\n</svg>\n",
      "image/png": "[encoded data removed]"
     },
     "metadata": {
      "needs_background": "light"
     }
    }
   ],
   "metadata": {}
  }
 ],
 "metadata": {
  "anaconda-cloud": {},
  "kernelspec": {
   "name": "python3",
   "display_name": "Python 3.8.10 64-bit ('base': conda)"
  },
  "language_info": {
   "codemirror_mode": {
    "name": "ipython",
    "version": 3
   },
   "file_extension": ".py",
   "mimetype": "text/x-python",
   "name": "python",
   "nbconvert_exporter": "python",
   "pygments_lexer": "ipython3",
   "version": "3.8.10"
  },
  "interpreter": {
   "hash": "14c878ca9e09cb855c5aba830c5d56400199f035e888de3a1c3895cb2a489872"
  }
 },
 "nbformat": 4,
 "nbformat_minor": 4
}