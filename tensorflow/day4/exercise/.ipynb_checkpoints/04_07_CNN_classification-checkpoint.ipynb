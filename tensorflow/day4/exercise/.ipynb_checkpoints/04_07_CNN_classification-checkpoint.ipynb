{
 "cells": [
  {
   "cell_type": "code",
   "execution_count": 1,
   "metadata": {},
   "outputs": [],
   "source": [
    "import os\n",
    "import tensorflow as tf\n",
    "\n",
    "train_dir='../dataset\\\\cifar_10_small\\\\train'\n",
    "test_dir='../dataset\\\\cifar_10_small\\\\test'\n",
    "\n",
    "### data\n",
    "## DATA를 만듬\n",
    "train_datagen = tf.keras.preprocessing.image.ImageDataGenerator()\n",
    "test_datagen = tf.keras.preprocessing.image.ImageDataGenerator()\n"
   ]
  },
  {
   "cell_type": "code",
   "execution_count": 2,
   "metadata": {},
   "outputs": [
    {
     "ename": "SyntaxError",
     "evalue": "invalid syntax (<ipython-input-2-2bf3bf726476>, line 4)",
     "output_type": "error",
     "traceback": [
      "\u001b[1;36m  File \u001b[1;32m\"<ipython-input-2-2bf3bf726476>\"\u001b[1;36m, line \u001b[1;32m4\u001b[0m\n\u001b[1;33m    target_size=\u001b[0m\n\u001b[1;37m               ^\u001b[0m\n\u001b[1;31mSyntaxError\u001b[0m\u001b[1;31m:\u001b[0m invalid syntax\n"
     ]
    }
   ],
   "source": [
    "\n",
    "## 만든데이터를 불러와서 파씽함.\n",
    "train_generator = train_datagen.flow_from_directory(\n",
    "        directory=\n",
    "        target_size=\n",
    "        batch_size=\n",
    "        interpolation=\n",
    "        color_mode =\n",
    "        shuffle=\n",
    "        # binary_crossentropy 손실을 사용하기 때문에 이진 레이블이 필요합니다\n",
    "        class_mode=) # binary, categorical , sparse , input\n",
    "\n",
    "## class의 인덱스를 확인.\n",
    "print(train_generator.class_indices)\n",
    "print(train_generator.classes)\n",
    "\n",
    "test_generator = test_datagen.flow_from_directory(\n",
    "        directory=\n",
    "        target_size=\n",
    "        batch_size=\n",
    "        shuffle=\n",
    "        interpolation=\n",
    "        color_mode=\n",
    "        class_mode=) #categorical\n",
    "\n",
    "## 파씽한 데이터의 배치사이즈 확인하기\n",
    "for data_batch, labels_batch in train_generator:\n",
    "    print('배치 데이터 크기:', data_batch.shape)\n",
    "    print('배치 레이블 크기:', labels_batch.shape)\n",
    "    print('class :',train_generator.class_indices)\n",
    "    break\n"
   ]
  },
  {
   "cell_type": "code",
   "execution_count": 3,
   "metadata": {},
   "outputs": [
    {
     "ename": "SyntaxError",
     "evalue": "invalid syntax (<ipython-input-3-751ddfe888a9>, line 2)",
     "output_type": "error",
     "traceback": [
      "\u001b[1;36m  File \u001b[1;32m\"<ipython-input-3-751ddfe888a9>\"\u001b[1;36m, line \u001b[1;32m2\u001b[0m\n\u001b[1;33m    input_Layer =\u001b[0m\n\u001b[1;37m                 ^\u001b[0m\n\u001b[1;31mSyntaxError\u001b[0m\u001b[1;31m:\u001b[0m invalid syntax\n"
     ]
    }
   ],
   "source": [
    "\n",
    "\n",
    "## 모델\n",
    "input_Layer =\n",
    "x=\n",
    "x=\n",
    "Out_Layer=\n",
    "\n",
    "model =\n",
    "model.summary()\n"
   ]
  },
  {
   "cell_type": "code",
   "execution_count": 4,
   "metadata": {},
   "outputs": [
    {
     "ename": "SyntaxError",
     "evalue": "invalid syntax (<ipython-input-4-cd36e05d3968>, line 1)",
     "output_type": "error",
     "traceback": [
      "\u001b[1;36m  File \u001b[1;32m\"<ipython-input-4-cd36e05d3968>\"\u001b[1;36m, line \u001b[1;32m1\u001b[0m\n\u001b[1;33m    loss_function=\u001b[0m\n\u001b[1;37m                  ^\u001b[0m\n\u001b[1;31mSyntaxError\u001b[0m\u001b[1;31m:\u001b[0m invalid syntax\n"
     ]
    }
   ],
   "source": [
    "\n",
    "loss_function=\n",
    "optimize=\n",
    "metric=\n",
    "model.compile(loss=loss_function,\n",
    "              optimizer=optimize,\n",
    "              metrics=[metric])\n",
    "\n",
    "# callbacks_list= [tf.keras.callbacks.TensorBoard(log_dir='log_dir', histogram_freq=1, write_images='True', write_graph='True')]\n",
    "\n",
    "## generator는 입력과 타깃의 배치를 끝없이 반환한다.\n",
    "## 데이터가 끝없이 생성되기 때문에 모델에 하나의 에포크를 정의할때 제너레이터로부터 얼만큼 많은 샘플을 뽑을지 전달해야함\n",
    "## steps_pr_epoch 가 100이면 위에서 선언된 배치 수만큼의 인풋/아웃풋데이터가 생성되어 학습이 된다.\n",
    "##즉, 배치가 20이면 20의 배치인 데이터가 100번만큼 생성되어 학습한다. 즉, 20의 배치 데이터를 100번 학습완료하면 1에포크\n",
    "## 단, 20의 배치데이터를 생성할때마다 랜덤적으로 생성한다.\n",
    "## 일반적으로 배치사이즈/전체 데이터 길이를 steps_per_epoch로 설정한다.\n",
    "result = model.fit(\n",
    "\n",
    ")\n",
    "\n",
    "model.save('cats_and_dogs_categorical_classification.hdf5')\n"
   ]
  },
  {
   "cell_type": "code",
   "execution_count": null,
   "metadata": {},
   "outputs": [],
   "source": [
    "\n",
    "import matplotlib.pyplot as plt\n",
    "\n",
    "acc = result.history['categorical_accuracy']\n",
    "val_acc = result.history['val_categorical_accuracy']\n",
    "loss = result.history['loss']\n",
    "val_loss = result.history['val_loss']\n",
    "\n",
    "epochs = range(len(acc))\n",
    "\n",
    "plt.plot(epochs, acc, 'bo', label='Training acc')\n",
    "plt.plot(epochs, val_acc, 'b', label='Validation acc')\n",
    "plt.title('Training and validation accuracy')\n",
    "plt.legend()\n",
    "\n",
    "plt.figure()\n",
    "\n",
    "plt.plot(epochs, loss, 'bo', label='Training loss')\n",
    "plt.plot(epochs, val_loss, 'b', label='Validation loss')\n",
    "plt.title('Training and validation loss')\n",
    "plt.legend()\n",
    "\n",
    "plt.show()"
   ]
  }
 ],
 "metadata": {
  "anaconda-cloud": {},
  "kernelspec": {
   "display_name": "Python 3",
   "language": "python",
   "name": "python3"
  },
  "language_info": {
   "codemirror_mode": {
    "name": "ipython",
    "version": 3
   },
   "file_extension": ".py",
   "mimetype": "text/x-python",
   "name": "python",
   "nbconvert_exporter": "python",
   "pygments_lexer": "ipython3",
   "version": "3.6.8"
  }
 },
 "nbformat": 4,
 "nbformat_minor": 4
}
