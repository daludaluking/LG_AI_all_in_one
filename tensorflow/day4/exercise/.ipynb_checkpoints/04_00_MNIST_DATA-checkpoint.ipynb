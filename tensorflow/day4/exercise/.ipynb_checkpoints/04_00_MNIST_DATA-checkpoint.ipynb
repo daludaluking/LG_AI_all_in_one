{
 "cells": [
  {
   "cell_type": "code",
   "execution_count": null,
   "metadata": {},
   "outputs": [],
   "source": [
    "#-*- coding: utf-8 -*-\n",
    "import sys\n",
    "import tensorflow as tf\n",
    "# MNIST데이터셋 불러오기\n",
    "(X_train, Y_class_train), (X_test, Y_class_test) = tf.keras.datasets.mnist.load_data()\n",
    "print(X_train.shape)\n",
    "print(\"학습셋 이미지 수 : %d 개\" % (X_train.shape[0]))\n",
    "print(\"테스트셋 이미지 수 : %d 개\" % (X_test.shape[0]))\n",
    "\n",
    "# 그래프로 확인\n",
    "import matplotlib.pyplot as plt\n",
    "plt.imshow(X_train[0], cmap='Greys')\n",
    "plt.show()\n",
    "\n",
    "# 코드로 확인\n",
    "for x in X_train[0]:\n",
    "    for i in x:\n",
    "        sys.stdout.write('%d\\t' % i)\n",
    "    sys.stdout.write('\\n')\n",
    "\n",
    "# 차원 변환 과정\n",
    "X_train = X_train.reshape(X_train.shape[0], 784)  # (6000 x 28 x 28) -> (6000 x 784 ) 1000은 이미지의 총 갯수. 배치사이즈를 의미한다.\n",
    "plt.imshow(X_train, cmap='Greys')\n",
    "plt.show()\n",
    "\n",
    "X_train = X_train.astype('float64')  ## types를 float 64로 변환\n",
    "X_train = X_train / 255  ## 0~ 255 값으로 노말라이즈 해주기\n",
    "\n",
    "X_test = X_test.reshape(X_test.shape[0], 784).astype('float64') / 255\n",
    "\n",
    "# 클래스 값 확인\n",
    "print(\"class : %d \" % (Y_class_train[0])) ## 이미지 하나 확인하는게 [0]이므로 여기서도 [0]를 가져온다.\n",
    "\n",
    "# 바이너리화 과정\n",
    "# 0 ->[1 0 0 0 0 0 0 0 0 ]\n",
    "Y_train = tf.keras.utils.to_categorical(Y_class_train)\n",
    "Y_test = tf.keras.utils.to_categorical(Y_class_test)\n",
    "\n",
    "print(Y_train[0])\n",
    "\n"
   ]
  }
 ],
 "metadata": {
  "anaconda-cloud": {},
  "kernelspec": {
   "display_name": "Python 3",
   "language": "python",
   "name": "python3"
  },
  "language_info": {
   "codemirror_mode": {
    "name": "ipython",
    "version": 3
   },
   "file_extension": ".py",
   "mimetype": "text/x-python",
   "name": "python",
   "nbconvert_exporter": "python",
   "pygments_lexer": "ipython3",
   "version": "3.6.8"
  }
 },
 "nbformat": 4,
 "nbformat_minor": 4
}
