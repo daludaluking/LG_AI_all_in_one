{
 "cells": [
  {
   "cell_type": "code",
   "execution_count": 1,
   "metadata": {},
   "outputs": [],
   "source": [
    "import os\n",
    "import tensorflow as tf\n",
    "import cv2\n",
    "import matplotlib.pyplot as plt\n",
    "import numpy as np\n",
    "test_dir='../dataset\\\\cifar_10_small\\\\test'\n",
    "\n",
    "test_aeroplane_dir= os.path.join(test_dir,'aeroplane')\n",
    "test_bird_dir=os.path.join(test_dir,'bird')\n",
    "test_car_dir= os.path.join(test_dir,'car')\n",
    "test_cat_dir=os.path.join(test_dir,'cat')\n",
    "\n",
    "names= [ 'aeroplane','bird','car','cat' ] ## class 작성하기.\n",
    "\n"
   ]
  },
  {
   "cell_type": "code",
   "execution_count": 2,
   "metadata": {},
   "outputs": [],
   "source": [
    "\n",
    "fnames = sorted([os.path.join(test_aeroplane_dir, fname) for fname in os.listdir(test_aeroplane_dir)])\n",
    "\n"
   ]
  },
  {
   "cell_type": "code",
   "execution_count": 3,
   "metadata": {},
   "outputs": [],
   "source": [
    "# 증식할 이미지 선택합니다\n",
    "img_path = fnames[3]\n",
    "\n"
   ]
  },
  {
   "cell_type": "code",
   "execution_count": 4,
   "metadata": {},
   "outputs": [],
   "source": [
    "# 이미지를 읽고 크기를 변경합니다\n",
    "img=cv2.imread(img_path)\n",
    "img_resize=cv2.resize(img,(150,150))\n"
   ]
  },
  {
   "cell_type": "code",
   "execution_count": 5,
   "metadata": {},
   "outputs": [
    {
     "name": "stdout",
     "output_type": "stream",
     "text": [
      "(150, 150, 3)\n"
     ]
    }
   ],
   "source": [
    "\n",
    "# (150, 150, 3) 크기의 넘파이 배열로 변환합니다\n",
    "# M=np.float32([[1,0,0],[0,1,0]])\n",
    "M= cv2.getRotationMatrix2D((150/2, 150/2), 15, 1)\n",
    "M[0, 2]=M[0, 2]+5\n",
    "M[1, 2]=M[1, 2]+3\n",
    "test_image = cv2.warpAffine(img_resize, M,(150, 150) )\n",
    "print(test_image.shape)\n",
    "test_image_reshape = test_image.reshape(1, 150, 150, 3)\n",
    "\n"
   ]
  },
  {
   "cell_type": "code",
   "execution_count": 6,
   "metadata": {},
   "outputs": [],
   "source": [
    "##모델 예측하는 코드 짜기\n",
    "model = tf.keras.models.load_model('cifar10_augumentation_categorical_classification.hdf5') # 모델을 새로 불러옴\n"
   ]
  },
  {
   "cell_type": "code",
   "execution_count": null,
   "metadata": {},
   "outputs": [],
   "source": [
    "y = model.predict(test_image_reshape)\n",
    "index=np.argmax(y[0])\n",
    "plt.imshow(test_image)\n",
    "plt.xlabel(names[index])\n",
    "plt.show()"
   ]
  }
 ],
 "metadata": {
  "anaconda-cloud": {},
  "kernelspec": {
   "display_name": "Python 3",
   "language": "python",
   "name": "python3"
  },
  "language_info": {
   "codemirror_mode": {
    "name": "ipython",
    "version": 3
   },
   "file_extension": ".py",
   "mimetype": "text/x-python",
   "name": "python",
   "nbconvert_exporter": "python",
   "pygments_lexer": "ipython3",
   "version": "3.6.8"
  }
 },
 "nbformat": 4,
 "nbformat_minor": 4
}
