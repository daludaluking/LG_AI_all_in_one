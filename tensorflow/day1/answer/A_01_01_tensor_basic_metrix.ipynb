{
  "cells": [
    {
      "cell_type": "code",
      "metadata": {},
      "source": [
        "\n",
        "\n",
        "\n",
        "import tensorflow as tf\n",
        "\n",
        "## \ub9e4\ud2b8\ub9ad\uc2a4 \uc5f0\uc0b0 \uc791\uc131\ud558\uae30.\n",
        "A = tf.constant([ [2, 2, 4],\n",
        "                  [1, 1, 6],\n",
        "                  [1, 3, 8] ])\n",
        "\n",
        "B = tf.constant([ [4, 3, 3],\n",
        "                  [2, 1, 6],\n",
        "                  [1, 2, 8] ])\n",
        "\n",
        "AB = tf.matmul(A, B)\n",
        "\n",
        "#####\n",
        "print(\"result = {}\".format(AB))\n"
      ],
      "outputs": [],
      "execution_count": null
    }
  ],
  "metadata": {
    "anaconda-cloud": {},
    "kernelspec": {
      "display_name": "Python 3",
      "language": "python",
      "name": "python3"
    },
    "language_info": {
      "codemirror_mode": {
        "name": "ipython",
        "version": 3
      },
      "file_extension": ".py",
      "mimetype": "text/x-python",
      "name": "python",
      "nbconvert_exporter": "python",
      "pygments_lexer": "ipython3",
      "version": "3.6.1"
    }
  },
  "nbformat": 4,
  "nbformat_minor": 4
}