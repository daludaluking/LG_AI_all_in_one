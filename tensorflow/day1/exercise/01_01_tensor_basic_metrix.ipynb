{
  "cells": [
    {
      "cell_type": "code",
      "execution_count": 6,
      "source": [
        "\n",
        "\n",
        "import tensorflow as tf\n",
        "\n",
        "## matrix 선언 하기.\n",
        "matrix_A = tf.constant([[1,2], [3,4]]) # 작성\n",
        "matrix_B = tf.constant([[5,6], [7,8]]) # 작성\n",
        "\n",
        "## matrix 연산하기.\n",
        "result = tf.matmul(matrix_A, matrix_B) # 작성\n",
        "\n",
        "## 결과\n",
        "print(\"result = {}\".format(result))\n",
        "\n",
        "print(matrix_A * matrix_B)\n",
        "\n"
      ],
      "outputs": [
        {
          "output_type": "stream",
          "name": "stdout",
          "text": [
            "result = [[19 22]\n",
            " [43 50]]\n",
            "tf.Tensor(\n",
            "[[ 5 12]\n",
            " [21 32]], shape=(2, 2), dtype=int32)\n"
          ]
        }
      ],
      "metadata": {}
    },
    {
      "cell_type": "code",
      "execution_count": null,
      "source": [],
      "outputs": [],
      "metadata": {}
    }
  ],
  "metadata": {
    "anaconda-cloud": {},
    "kernelspec": {
      "name": "python3",
      "display_name": "Python 3.8.10 64-bit ('base': conda)"
    },
    "language_info": {
      "codemirror_mode": {
        "name": "ipython",
        "version": 3
      },
      "file_extension": ".py",
      "mimetype": "text/x-python",
      "name": "python",
      "nbconvert_exporter": "python",
      "pygments_lexer": "ipython3",
      "version": "3.8.10"
    },
    "interpreter": {
      "hash": "14c878ca9e09cb855c5aba830c5d56400199f035e888de3a1c3895cb2a489872"
    }
  },
  "nbformat": 4,
  "nbformat_minor": 4
}