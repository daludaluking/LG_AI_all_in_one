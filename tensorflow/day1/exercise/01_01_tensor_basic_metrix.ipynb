{
  "cells": [
    {
      "cell_type": "code",
      "metadata": {},
      "source": [
        "\n",
        "\n",
        "import tensorflow as tf\n",
        "\n",
        "## matrix \uc120\uc5b8 \ud558\uae30.\n",
        "matrix_A = tf.constant() # \uc791\uc131\n",
        "matrix_B = tf.constant() # \uc791\uc131\n",
        "\n",
        "## matrix \uc5f0\uc0b0\ud558\uae30.\n",
        "result = tf.mat( ) # \uc791\uc131\n",
        "\n",
        "## \uacb0\uacfc\n",
        "print(\"result = {}\".format(result))\n",
        "\n"
      ],
      "outputs": [],
      "execution_count": null
    }
  ],
  "metadata": {
    "anaconda-cloud": {},
    "kernelspec": {
      "display_name": "Python 3",
      "language": "python",
      "name": "python3"
    },
    "language_info": {
      "codemirror_mode": {
        "name": "ipython",
        "version": 3
      },
      "file_extension": ".py",
      "mimetype": "text/x-python",
      "name": "python",
      "nbconvert_exporter": "python",
      "pygments_lexer": "ipython3",
      "version": "3.6.1"
    }
  },
  "nbformat": 4,
  "nbformat_minor": 4
}