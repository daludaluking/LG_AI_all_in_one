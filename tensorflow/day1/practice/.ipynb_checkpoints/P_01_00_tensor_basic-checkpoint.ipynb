{
 "cells": [
  {
   "cell_type": "code",
   "execution_count": 2,
   "metadata": {},
   "outputs": [
    {
     "name": "stdout",
     "output_type": "stream",
     "text": [
      "result = 10\n"
     ]
    }
   ],
   "source": [
    "\n",
    "import tensorflow as tf\n",
    "\n",
    "### 상수 선언하기.\n",
    "x1 = tf.constant(5)\n",
    "x2 = tf.constant(3)\n",
    "x3 = tf.constant(2)\n",
    "\n",
    "##  연산\n",
    "result= tf.subtract(tf.multiply(x1, x2), tf.add(x2,x3))\n",
    "\n",
    "print(\"result = {}\".format(result))\n",
    "\n",
    "\n"
   ]
  },
  {
   "cell_type": "code",
   "execution_count": null,
   "metadata": {},
   "outputs": [],
   "source": [
    "### 상수 선언하기.\n",
    "x1 = tf.(5)\n",
    "x2 = tf.constant(3)\n",
    "x3 = tf.constant(2)\n",
    "\n",
    "##  연산\n",
    "result= tf.subtract(tf.multiply(x1, x2), tf.add(x2,x3))\n",
    "\n",
    "print(\"result = {}\".format(result))"
   ]
  }
 ],
 "metadata": {
  "anaconda-cloud": {},
  "kernelspec": {
   "display_name": "Python 3 (ipykernel)",
   "language": "python",
   "name": "python3"
  },
  "language_info": {
   "codemirror_mode": {
    "name": "ipython",
    "version": 3
   },
   "file_extension": ".py",
   "mimetype": "text/x-python",
   "name": "python",
   "nbconvert_exporter": "python",
   "pygments_lexer": "ipython3",
   "version": "3.8.6"
  }
 },
 "nbformat": 4,
 "nbformat_minor": 4
}
