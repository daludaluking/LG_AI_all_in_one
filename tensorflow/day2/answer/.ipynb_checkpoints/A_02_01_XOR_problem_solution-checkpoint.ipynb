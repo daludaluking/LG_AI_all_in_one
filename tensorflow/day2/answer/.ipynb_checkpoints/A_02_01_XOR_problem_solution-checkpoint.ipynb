{
 "cells": [
  {
   "cell_type": "code",
   "execution_count": 1,
   "metadata": {},
   "outputs": [],
   "source": [
    "\n",
    "import tensorflow as tf\n",
    "import numpy as np\n",
    "\n",
    "## data 선언\n",
    "x_data = [[0.,0.], [0.,1.], [1.,0.],[1.,1.]]\n",
    "y_data = [[1.], [0.], [0.], [1.]]\n",
    "\n",
    "\n"
   ]
  },
  {
   "cell_type": "code",
   "execution_count": 2,
   "metadata": {},
   "outputs": [
    {
     "name": "stdout",
     "output_type": "stream",
     "text": [
      "Model: \"functional_1\"\n",
      "_________________________________________________________________\n",
      "Layer (type)                 Output Shape              Param #   \n",
      "=================================================================\n",
      "input_1 (InputLayer)         [(None, 2)]               0         \n",
      "_________________________________________________________________\n",
      "dense (Dense)                (None, 2)                 6         \n",
      "_________________________________________________________________\n",
      "dense_1 (Dense)              (None, 1)                 3         \n",
      "=================================================================\n",
      "Total params: 9\n",
      "Trainable params: 9\n",
      "Non-trainable params: 0\n",
      "_________________________________________________________________\n"
     ]
    }
   ],
   "source": [
    "## tf.keras를 활용한 perceptron 모델 구현.\n",
    "input_Layer = tf.keras.layers.Input(shape=(2,))\n",
    "x = tf.keras.layers.Dense(2, activation='sigmoid')(input_Layer)\n",
    "Out_Layer= tf.keras.layers.Dense(1, activation='sigmoid')(x)\n",
    "model = tf.keras.Model(inputs=[input_Layer], outputs=[Out_Layer])\n",
    "model.summary()\n",
    "\n"
   ]
  },
  {
   "cell_type": "code",
   "execution_count": null,
   "metadata": {},
   "outputs": [],
   "source": [
    "# 모델 loss, 학습 방법 결정하기\n",
    "optimizer=tf.keras.optimizers.SGD(learning_rate=0.7) ### 경사 하강법으로 global min 에 찾아가는 최적화 방법 선언.\n",
    "loss=tf.keras.losses.binary_crossentropy  ## 예측값 과 정답의 오차값 정의. mse는 mean squre error로 (예측값 - 정답)^2 를 의미\n",
    "metrics=tf.keras.metrics.binary_accuracy ### 학습하면서 평가할 메트릭스 선언언\n",
    "\n",
    "# 모델 컴파일하기\n",
    "model.compile(loss=loss, optimizer=optimizer, metrics=[metrics])\n",
    "\n",
    "# 모델 동작하기\n",
    "model.fit(x_data, y_data, epochs=2000, batch_size=4)\n",
    "# model.fit(x_data,y_data, epochs=1000,)"
   ]
  }
 ],
 "metadata": {
  "anaconda-cloud": {},
  "kernelspec": {
   "display_name": "Python 3",
   "language": "python",
   "name": "python3"
  },
  "language_info": {
   "codemirror_mode": {
    "name": "ipython",
    "version": 3
   },
   "file_extension": ".py",
   "mimetype": "text/x-python",
   "name": "python",
   "nbconvert_exporter": "python",
   "pygments_lexer": "ipython3",
   "version": "3.6.8"
  }
 },
 "nbformat": 4,
 "nbformat_minor": 4
}
