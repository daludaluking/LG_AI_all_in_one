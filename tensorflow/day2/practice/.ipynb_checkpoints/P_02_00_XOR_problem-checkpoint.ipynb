{
 "cells": [
  {
   "cell_type": "code",
   "execution_count": 1,
   "metadata": {},
   "outputs": [],
   "source": [
    "\n",
    "import tensorflow as tf\n",
    "\n",
    "## data 선언\n",
    "x_data = [[0.,0.], [0.,1.], [1.,0.],[1.,1.]]\n",
    "y_data = [[0.], [1.], [1.], [0.]]\n",
    "test_data=[[0.5, 0.5]]\n"
   ]
  },
  {
   "cell_type": "code",
   "execution_count": 2,
   "metadata": {},
   "outputs": [
    {
     "name": "stdout",
     "output_type": "stream",
     "text": [
      "Model: \"sequential\"\n",
      "_________________________________________________________________\n",
      "Layer (type)                 Output Shape              Param #   \n",
      "=================================================================\n",
      "dense (Dense)                (None, 1)                 3         \n",
      "=================================================================\n",
      "Total params: 3\n",
      "Trainable params: 3\n",
      "Non-trainable params: 0\n",
      "_________________________________________________________________\n"
     ]
    }
   ],
   "source": [
    "## tf.keras를 활용한 perceptron 모델 구현.\n",
    "model = tf.keras.Sequential() ## 모델 선언\n",
    "model.add(tf.keras.layers.Dense(1, input_dim=2,activation='sigmoid')) # 선언된 모델에 add를통해 쌓아감.은닉층\n",
    "model.summary()\n"
   ]
  },
  {
   "cell_type": "code",
   "execution_count": null,
   "metadata": {},
   "outputs": [],
   "source": [
    "\n",
    "# 모델 loss, 학습 방법 결정하기\n",
    "optimizer=tf.keras.optimizers.SGD(learning_rate=0.005) ### 경사 하강법으로 global min 에 찾아가는 최적화 방법 선언.\n",
    "loss=tf.keras.losses.binary_crossentropy  ## 예측값 과 정답의 오차값 정의.\n",
    "metrics=tf.keras.metrics.binary_accuracy ### 학습하면서 평가할 메트릭스 선언언\n",
    "\n",
    "# 모델 컴파일하기\n",
    "model.compile(loss=loss, optimizer=optimizer, metrics=[metrics])\n",
    "\n",
    "# 모델 동작하기\n",
    "model.fit(x_data, y_data, epochs=3000, batch_size=4)"
   ]
  }
 ],
 "metadata": {
  "anaconda-cloud": {},
  "kernelspec": {
   "display_name": "Python 3",
   "language": "python",
   "name": "python3"
  },
  "language_info": {
   "codemirror_mode": {
    "name": "ipython",
    "version": 3
   },
   "file_extension": ".py",
   "mimetype": "text/x-python",
   "name": "python",
   "nbconvert_exporter": "python",
   "pygments_lexer": "ipython3",
   "version": "3.6.8"
  }
 },
 "nbformat": 4,
 "nbformat_minor": 4
}
