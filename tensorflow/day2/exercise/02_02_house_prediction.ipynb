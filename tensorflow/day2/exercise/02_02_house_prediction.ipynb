{
 "cells": [
  {
   "cell_type": "code",
   "execution_count": 1,
   "source": [
    "\n",
    "import pandas as pd\n",
    "import tensorflow as tf\n",
    "import matplotlib.pyplot as plt\n",
    "\n",
    "gpus = tf.config.experimental.list_physical_devices('GPU')\n",
    "if gpus:\n",
    "  try:\n",
    "    # Currently, memory growth needs to be the same across GPUs\n",
    "    for gpu in gpus:\n",
    "      tf.config.experimental.set_memory_growth(gpu, True)\n",
    "    logical_gpus = tf.config.experimental.list_logical_devices('GPU')\n",
    "    print(len(gpus), \"Physical GPUs,\", len(logical_gpus), \"Logical GPUs\")\n",
    "  except RuntimeError as e:\n",
    "    # Memory growth must be set before GPUs have been initialized\n",
    "    print(e)\n",
    "\n",
    "## 데이터 읽어오기.\n",
    "df = pd.read_csv(\"../dataset/BostonHousing.csv\")\n",
    "\n",
    "\n",
    "\n"
   ],
   "outputs": [
    {
     "output_type": "stream",
     "name": "stdout",
     "text": [
      "1 Physical GPUs, 1 Logical GPUs\n"
     ]
    }
   ],
   "metadata": {}
  },
  {
   "cell_type": "code",
   "execution_count": 2,
   "source": [
    "\n",
    "\n",
    "## key말고 해당하는 value값만 추출해서 입력과 정갑 데이터 분류\n",
    "dataset = df.copy()\n",
    "\n",
    "X = dataset\n",
    "Y = dataset.pop('MEDV')\n"
   ],
   "outputs": [],
   "metadata": {}
  },
  {
   "cell_type": "code",
   "execution_count": 3,
   "source": [
    "\n",
    "# 모델의 설정\n",
    "input_Layer = tf.keras.layers.Input((13, ))\n",
    "x = tf.keras.layers.Dense(10, activation=\"sigmoid\")(input_Layer)\n",
    "x = tf.keras.layers.Dense(20, activation=\"sigmoid\")(x)\n",
    "x = tf.keras.layers.Dense(30, activation=\"sigmoid\")(x)\n",
    "Out_Layer = tf.keras.layers.Dense(1, activation=None)(x)\n",
    "\n",
    "model = tf.keras.Model(inputs=[input_Layer], outputs=[Out_Layer])\n",
    "model.summary()\n",
    "\n"
   ],
   "outputs": [
    {
     "output_type": "stream",
     "name": "stdout",
     "text": [
      "Model: \"model\"\n",
      "_________________________________________________________________\n",
      "Layer (type)                 Output Shape              Param #   \n",
      "=================================================================\n",
      "input_1 (InputLayer)         [(None, 13)]              0         \n",
      "_________________________________________________________________\n",
      "dense (Dense)                (None, 10)                140       \n",
      "_________________________________________________________________\n",
      "dense_1 (Dense)              (None, 20)                220       \n",
      "_________________________________________________________________\n",
      "dense_2 (Dense)              (None, 30)                630       \n",
      "_________________________________________________________________\n",
      "dense_3 (Dense)              (None, 1)                 31        \n",
      "=================================================================\n",
      "Total params: 1,021\n",
      "Trainable params: 1,021\n",
      "Non-trainable params: 0\n",
      "_________________________________________________________________\n"
     ]
    }
   ],
   "metadata": {}
  },
  {
   "cell_type": "code",
   "execution_count": 4,
   "source": [
    "\n",
    "## 모델 loss, 학습 방법 선언\n",
    "loss=tf.keras.losses.mean_squared_error\n",
    "optimizer=tf.keras.optimizers.SGD(learning_rate=0.05)\n",
    "\n",
    "## 모델 컴파일\n",
    "model.compile(loss=loss,\n",
    "              optimizer=optimizer,\n",
    "              metrics=[tf.keras.metrics.RootMeanSquaredError()])\n",
    "\n",
    "## 모델 동작\n",
    "result=model.fit(X, Y, epochs=1000, batch_size=100) # 모델 fit 해서 동작하기\n",
    "\n",
    "## model fit은 histoy를 반환한다. 훈련중의 발생하는 모든 정보를 담고 있는 딕셔너리.\n",
    "## histoy는 딕셔너리이므로 keys()를 통해 출력의 key(카테고리)를 알 수 있다.\n",
    "print(result.history.keys())\n"
   ],
   "outputs": [
    {
     "output_type": "error",
     "ename": "SyntaxError",
     "evalue": "invalid syntax (<ipython-input-4-b4223cb2f775>, line 2)",
     "traceback": [
      "\u001b[1;36m  File \u001b[1;32m\"<ipython-input-4-b4223cb2f775>\"\u001b[1;36m, line \u001b[1;32m2\u001b[0m\n\u001b[1;33m    loss=\u001b[0m\n\u001b[1;37m         ^\u001b[0m\n\u001b[1;31mSyntaxError\u001b[0m\u001b[1;31m:\u001b[0m invalid syntax\n"
     ]
    }
   ],
   "metadata": {}
  },
  {
   "cell_type": "code",
   "execution_count": null,
   "source": [
    "\n",
    "### history에서 loss key를 가지는 값들만 추출\n",
    "loss = result.history['loss']\n",
    "\n",
    "### loss그래프화\n",
    "epochs = range(1, len(loss) + 1)\n",
    "plt.subplot(211)  ## 2x1 개의 그래프 중에 1번째\n",
    "plt.plot(epochs, loss, 'bo', label='Training loss')\n",
    "plt.title('Training loss')\n",
    "plt.xlabel('Epochs')\n",
    "plt.ylabel('Loss')\n",
    "plt.legend()\n",
    "\n",
    "### history에서 root_mean_squared_error key를 가지는 값들만 추출\n",
    "rmse = result.history['root_mean_squared_error']\n",
    "epochs = range(1, len(rmse) + 1)\n",
    "### mean_absolute_error를 그래프화\n",
    "plt.subplot(212)  ## 2x1 개의 그래프 중에 2번째\n",
    "plt.plot(epochs, rmse, 'ro', label='Training rmse')\n",
    "plt.title('Training rmse')\n",
    "plt.xlabel('Epochs')\n",
    "plt.ylabel('rmse')\n",
    "plt.legend()\n",
    "\n",
    "print(\"\\n Test rmse: %.4f\" % (model.evaluate(X, Y)[1]))\n",
    "plt.show()\n"
   ],
   "outputs": [],
   "metadata": {}
  }
 ],
 "metadata": {
  "anaconda-cloud": {},
  "kernelspec": {
   "name": "python3",
   "display_name": "Python 3.8.10 64-bit ('base': conda)"
  },
  "language_info": {
   "codemirror_mode": {
    "name": "ipython",
    "version": 3
   },
   "file_extension": ".py",
   "mimetype": "text/x-python",
   "name": "python",
   "nbconvert_exporter": "python",
   "pygments_lexer": "ipython3",
   "version": "3.8.10"
  },
  "interpreter": {
   "hash": "14c878ca9e09cb855c5aba830c5d56400199f035e888de3a1c3895cb2a489872"
  }
 },
 "nbformat": 4,
 "nbformat_minor": 4
}