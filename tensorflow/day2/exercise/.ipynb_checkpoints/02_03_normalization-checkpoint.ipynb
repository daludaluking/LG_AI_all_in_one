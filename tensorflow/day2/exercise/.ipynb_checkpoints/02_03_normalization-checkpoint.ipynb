{
 "cells": [
  {
   "cell_type": "code",
   "execution_count": 1,
   "metadata": {},
   "outputs": [
    {
     "name": "stdout",
     "output_type": "stream",
     "text": [
      "data infor\n",
      "<class 'pandas.core.frame.DataFrame'>\n",
      "RangeIndex: 10 entries, 0 to 9\n",
      "Data columns (total 6 columns):\n",
      "A    10 non-null int64\n",
      "B    10 non-null int64\n",
      "C    10 non-null int64\n",
      "D    10 non-null int64\n",
      "E    10 non-null int64\n",
      "F    10 non-null int64\n",
      "dtypes: int64(6)\n",
      "memory usage: 608.0 bytes\n",
      "None\n",
      "data head\n",
      "   A   B   C   D   E  F\n",
      "0  1  20 -50   2 -10  2\n",
      "1  2  30 -40   4  -9  3\n",
      "2  3  30 -30   6  -8  4\n",
      "3  4  50 -20   8  -7  5\n",
      "4  5  60   0  20  -6  4\n"
     ]
    }
   ],
   "source": [
    "\n",
    "import seaborn as sns\n",
    "import pandas as pd\n",
    "import matplotlib.pyplot as plt\n",
    "\n",
    "## 데이터 읽어오기.## 데이터 읽어오기.\n",
    "raw_df = pd.read_csv(\"../dataset/test2.csv\")\n",
    "print(\"data infor\")\n",
    "print(raw_df.info())\n",
    "print(\"data head\")\n",
    "print(raw_df.head())\n",
    "dataset=raw_df.copy()\n"
   ]
  },
  {
   "cell_type": "code",
   "execution_count": 2,
   "metadata": {},
   "outputs": [
    {
     "ename": "SyntaxError",
     "evalue": "invalid syntax (<ipython-input-2-3b1196c74b48>, line 2)",
     "output_type": "error",
     "traceback": [
      "\u001b[1;36m  File \u001b[1;32m\"<ipython-input-2-3b1196c74b48>\"\u001b[1;36m, line \u001b[1;32m2\u001b[0m\n\u001b[1;33m    sns.pairplot(dataset[      ], diag_kind=\"kde\")\u001b[0m\n\u001b[1;37m                               ^\u001b[0m\n\u001b[1;31mSyntaxError\u001b[0m\u001b[1;31m:\u001b[0m invalid syntax\n"
     ]
    }
   ],
   "source": [
    "\n",
    "## 데이터 분포도 확인하기.\n",
    "sns.pairplot(dataset[      ], diag_kind=\"kde\")\n",
    "plt.show()\n",
    "\n",
    "## 정답 데이터 추출\n",
    "train_labels =\n",
    "\n",
    "## 데이터의 min , max, mean, std 값 구하기.\n",
    "dataset_stats =\n",
    "dataset_stats =\n",
    "\n",
    "## data normalization\n",
    "def min_max_norm(x):\n",
    "  return\n",
    "\n",
    "def standard_norm(x):\n",
    "  return\n",
    "\n"
   ]
  },
  {
   "cell_type": "code",
   "execution_count": null,
   "metadata": {},
   "outputs": [],
   "source": [
    "\n",
    "min_max_norm_train_data = min_max_norm(dataset)\n",
    "standard_norm_train_data = standard_norm(dataset)\n",
    "\n",
    "print(\"min max : \")\n",
    "print(min_max_norm_train_data)\n",
    "print(\"standard : \")\n",
    "print(standard_norm_train_data)"
   ]
  }
 ],
 "metadata": {
  "anaconda-cloud": {},
  "kernelspec": {
   "display_name": "Python 3",
   "language": "python",
   "name": "python3"
  },
  "language_info": {
   "codemirror_mode": {
    "name": "ipython",
    "version": 3
   },
   "file_extension": ".py",
   "mimetype": "text/x-python",
   "name": "python",
   "nbconvert_exporter": "python",
   "pygments_lexer": "ipython3",
   "version": "3.6.8"
  }
 },
 "nbformat": 4,
 "nbformat_minor": 4
}
