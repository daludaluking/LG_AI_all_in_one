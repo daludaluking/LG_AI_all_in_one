{
 "cells": [
  {
   "cell_type": "code",
   "execution_count": 1,
   "metadata": {},
   "outputs": [],
   "source": [
    "\n",
    "import pandas as pd\n",
    "import tensorflow as tf\n",
    "import matplotlib.pyplot as plt\n",
    "\n",
    "min_max=False\n",
    "standard=True\n",
    "## 데이터 읽어오기.\n",
    "df = pd.read_csv(\"../dataset/BostonHousing.csv\")\n",
    "\n",
    "## key말고 해당하는 value값만 추출해서 입력과 정갑 데이터 분류\n",
    "dataset = df.values\n",
    "\n"
   ]
  },
  {
   "cell_type": "code",
   "execution_count": 2,
   "metadata": {},
   "outputs": [
    {
     "ename": "SyntaxError",
     "evalue": "invalid syntax (<ipython-input-2-aae9ceb19297>, line 2)",
     "output_type": "error",
     "traceback": [
      "\u001b[1;36m  File \u001b[1;32m\"<ipython-input-2-aae9ceb19297>\"\u001b[1;36m, line \u001b[1;32m2\u001b[0m\n\u001b[1;33m    X_train1, X_test, Y_train1, Y_test =\u001b[0m\n\u001b[1;37m                                        ^\u001b[0m\n\u001b[1;31mSyntaxError\u001b[0m\u001b[1;31m:\u001b[0m invalid syntax\n"
     ]
    }
   ],
   "source": [
    "\n",
    "# 전체 데이터에서 학습 데이터와 검증, 테스트 데이터로 구분\n",
    "X_train1, X_test, Y_train1, Y_test =\n",
    "X_train, X_valid, Y_train, Y_valid =\n"
   ]
  },
  {
   "cell_type": "code",
   "execution_count": 3,
   "metadata": {},
   "outputs": [
    {
     "name": "stdout",
     "output_type": "stream",
     "text": [
      "Model: \"functional_1\"\n",
      "_________________________________________________________________\n",
      "Layer (type)                 Output Shape              Param #   \n",
      "=================================================================\n",
      "input_1 (InputLayer)         [(None, 13)]              0         \n",
      "_________________________________________________________________\n",
      "dense (Dense)                (None, 120)               1680      \n",
      "_________________________________________________________________\n",
      "dense_1 (Dense)              (None, 100)               12100     \n",
      "_________________________________________________________________\n",
      "dense_2 (Dense)              (None, 100)               10100     \n",
      "_________________________________________________________________\n",
      "dense_3 (Dense)              (None, 1)                 101       \n",
      "=================================================================\n",
      "Total params: 23,981\n",
      "Trainable params: 23,981\n",
      "Non-trainable params: 0\n",
      "_________________________________________________________________\n"
     ]
    }
   ],
   "source": [
    "\n",
    "\n",
    "# 모델의 설정\n",
    "activation=tf.keras.activations.sigmoid\n",
    "input_Layer = tf.keras.layers.Input(shape=(13,))\n",
    "x = tf.keras.layers.Dense(120, activation=activation)(input_Layer)\n",
    "x= tf.keras.layers.Dense(100, activation=activation)(x)\n",
    "x= tf.keras.layers.Dense(100, activation=activation)(x)\n",
    "Out_Layer= tf.keras.layers.Dense(1, activation=None)(x)\n",
    "\n",
    "model = tf.keras.Model(inputs=[input_Layer], outputs=[Out_Layer])\n",
    "model.summary()\n",
    "\n"
   ]
  },
  {
   "cell_type": "code",
   "execution_count": 4,
   "metadata": {},
   "outputs": [
    {
     "ename": "NameError",
     "evalue": "name 'X_train' is not defined",
     "output_type": "error",
     "traceback": [
      "\u001b[1;31m---------------------------------------------------------------------------\u001b[0m",
      "\u001b[1;31mNameError\u001b[0m                                 Traceback (most recent call last)",
      "\u001b[1;32m<ipython-input-4-a5b51ea49a97>\u001b[0m in \u001b[0;36m<module>\u001b[1;34m\u001b[0m\n\u001b[0;32m      3\u001b[0m               metrics=[tf.keras.metrics.RootMeanSquaredError()])\n\u001b[0;32m      4\u001b[0m \u001b[1;33m\u001b[0m\u001b[0m\n\u001b[1;32m----> 5\u001b[1;33m \u001b[0mresult\u001b[0m\u001b[1;33m=\u001b[0m\u001b[0mmodel\u001b[0m\u001b[1;33m.\u001b[0m\u001b[0mfit\u001b[0m\u001b[1;33m(\u001b[0m\u001b[0mX_train\u001b[0m\u001b[1;33m,\u001b[0m \u001b[0mY_train\u001b[0m\u001b[1;33m,\u001b[0m \u001b[0mepochs\u001b[0m\u001b[1;33m=\u001b[0m\u001b[1;36m800\u001b[0m\u001b[1;33m,\u001b[0m \u001b[0mbatch_size\u001b[0m\u001b[1;33m=\u001b[0m\u001b[1;36m100\u001b[0m\u001b[1;33m,\u001b[0m \u001b[0mvalidation_data\u001b[0m\u001b[1;33m=\u001b[0m\u001b[1;33m(\u001b[0m\u001b[0mX_valid\u001b[0m\u001b[1;33m,\u001b[0m\u001b[0mY_valid\u001b[0m\u001b[1;33m)\u001b[0m\u001b[1;33m)\u001b[0m\u001b[1;33m\u001b[0m\u001b[1;33m\u001b[0m\u001b[0m\n\u001b[0m\u001b[0;32m      6\u001b[0m \u001b[1;31m## model fit은 histoy를 반환한다. 훈련중의 발생하는 모든 정보를 담고 있는 딕셔너리.\u001b[0m\u001b[1;33m\u001b[0m\u001b[1;33m\u001b[0m\u001b[1;33m\u001b[0m\u001b[0m\n\u001b[0;32m      7\u001b[0m \u001b[1;31m## histoy는 딕셔너리이므로 keys()를 통해 출력의 key(카테고리)를 알 수 있다.\u001b[0m\u001b[1;33m\u001b[0m\u001b[1;33m\u001b[0m\u001b[1;33m\u001b[0m\u001b[0m\n",
      "\u001b[1;31mNameError\u001b[0m: name 'X_train' is not defined"
     ]
    }
   ],
   "source": [
    "\n",
    "model.compile(loss=tf.keras.losses.mean_squared_error,\n",
    "              optimizer=tf.keras.optimizers.SGD(learning_rate=0.005),\n",
    "              metrics=[tf.keras.metrics.RootMeanSquaredError()])\n",
    "\n",
    "result=model.fit(X_train, Y_train, epochs=800, batch_size=100, validation_data=(X_valid,Y_valid))\n",
    "## model fit은 histoy를 반환한다. 훈련중의 발생하는 모든 정보를 담고 있는 딕셔너리.\n",
    "## histoy는 딕셔너리이므로 keys()를 통해 출력의 key(카테고리)를 알 수 있다.\n",
    "print(result.history.keys())\n"
   ]
  },
  {
   "cell_type": "code",
   "execution_count": null,
   "metadata": {},
   "outputs": [],
   "source": [
    "\n",
    "### history에서 loss와 val_loss의 key를 가지는 값들만 추출\n",
    "loss = result.history['loss']\n",
    "val_loss = result.history['val_loss']\n",
    "\n",
    "### loss와 val_loss를 그래프화\n",
    "epochs = range(1, len(loss) + 1)\n",
    "plt.subplot(211)  ## 2x1 개의 그래프 중에 1번째\n",
    "plt.plot(epochs, loss, 'bo', label='Training loss')\n",
    "plt.plot(epochs, val_loss, 'b', label='Validation loss')\n",
    "plt.title('Training and validation loss')\n",
    "plt.xlabel('Epochs')\n",
    "plt.ylabel('Loss')\n",
    "plt.legend()\n",
    "\n",
    "### history에서 root_mean_squared_error val_root_mean_squared_error key를 가지는 값들만 추출\n",
    "rmse = result.history['root_mean_squared_error']\n",
    "val_rmse = result.history['val_root_mean_squared_error']\n",
    "epochs = range(1, len(rmse) + 1)\n",
    "### mean_absolute_error val_mean_absolute_error key를 그래프화\n",
    "plt.subplot(212)  ## 2x1 개의 그래프 중에 2번째\n",
    "plt.plot(epochs, rmse, 'ro', label='Training rmse')\n",
    "plt.plot(epochs, val_rmse, 'r', label='Validation rmse')\n",
    "plt.title('Training and validation rmse')\n",
    "plt.xlabel('Epochs')\n",
    "plt.ylabel('rmse')\n",
    "plt.legend()\n",
    "\n",
    "print(\"\\n Test rmse: %.4f\" % (model.evaluate(X_test, Y_test)[1]))\n",
    "\n",
    "plt.show()\n",
    "\n"
   ]
  }
 ],
 "metadata": {
  "anaconda-cloud": {},
  "kernelspec": {
   "display_name": "Python 3",
   "language": "python",
   "name": "python3"
  },
  "language_info": {
   "codemirror_mode": {
    "name": "ipython",
    "version": 3
   },
   "file_extension": ".py",
   "mimetype": "text/x-python",
   "name": "python",
   "nbconvert_exporter": "python",
   "pygments_lexer": "ipython3",
   "version": "3.6.8"
  }
 },
 "nbformat": 4,
 "nbformat_minor": 4
}
