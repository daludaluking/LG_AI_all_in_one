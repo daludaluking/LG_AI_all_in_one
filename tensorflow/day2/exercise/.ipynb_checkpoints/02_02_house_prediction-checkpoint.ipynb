{
 "cells": [
  {
   "cell_type": "code",
   "execution_count": 1,
   "metadata": {},
   "outputs": [],
   "source": [
    "\n",
    "import pandas as pd\n",
    "import tensorflow as tf\n",
    "import matplotlib.pyplot as plt\n",
    "\n",
    "## 데이터 읽어오기.\n",
    "df = pd.read_csv(\"../dataset/BostonHousing.csv\")\n",
    "\n",
    "\n",
    "\n"
   ]
  },
  {
   "cell_type": "code",
   "execution_count": 2,
   "metadata": {},
   "outputs": [
    {
     "ename": "SyntaxError",
     "evalue": "invalid syntax (<ipython-input-2-1ac63e14ca7c>, line 2)",
     "output_type": "error",
     "traceback": [
      "\u001b[1;36m  File \u001b[1;32m\"<ipython-input-2-1ac63e14ca7c>\"\u001b[1;36m, line \u001b[1;32m2\u001b[0m\n\u001b[1;33m    dataset =\u001b[0m\n\u001b[1;37m             ^\u001b[0m\n\u001b[1;31mSyntaxError\u001b[0m\u001b[1;31m:\u001b[0m invalid syntax\n"
     ]
    }
   ],
   "source": [
    "\n",
    "\n",
    "## key말고 해당하는 value값만 추출해서 입력과 정갑 데이터 분류\n",
    "dataset =\n",
    "\n",
    "X =\n",
    "Y =\n"
   ]
  },
  {
   "cell_type": "code",
   "execution_count": 3,
   "metadata": {},
   "outputs": [
    {
     "ename": "SyntaxError",
     "evalue": "invalid syntax (<ipython-input-3-039ed4b7213b>, line 2)",
     "output_type": "error",
     "traceback": [
      "\u001b[1;36m  File \u001b[1;32m\"<ipython-input-3-039ed4b7213b>\"\u001b[1;36m, line \u001b[1;32m2\u001b[0m\n\u001b[1;33m    input_Layer =\u001b[0m\n\u001b[1;37m                 ^\u001b[0m\n\u001b[1;31mSyntaxError\u001b[0m\u001b[1;31m:\u001b[0m invalid syntax\n"
     ]
    }
   ],
   "source": [
    "\n",
    "# 모델의 설정\n",
    "input_Layer =\n",
    "x =\n",
    "x =\n",
    "x =\n",
    "Out_Layer=\n",
    "\n",
    "model = tf.keras.Model(inputs=[input_Layer], outputs=[Out_Layer])\n",
    "model.summary()\n",
    "\n"
   ]
  },
  {
   "cell_type": "code",
   "execution_count": 4,
   "metadata": {},
   "outputs": [
    {
     "ename": "SyntaxError",
     "evalue": "invalid syntax (<ipython-input-4-b4223cb2f775>, line 2)",
     "output_type": "error",
     "traceback": [
      "\u001b[1;36m  File \u001b[1;32m\"<ipython-input-4-b4223cb2f775>\"\u001b[1;36m, line \u001b[1;32m2\u001b[0m\n\u001b[1;33m    loss=\u001b[0m\n\u001b[1;37m         ^\u001b[0m\n\u001b[1;31mSyntaxError\u001b[0m\u001b[1;31m:\u001b[0m invalid syntax\n"
     ]
    }
   ],
   "source": [
    "\n",
    "## 모델 loss, 학습 방법 선언\n",
    "loss=\n",
    "optimizer=\n",
    "\n",
    "## 모델 컴파일\n",
    "model.compile(loss=loss,\n",
    "              optimizer=optimizer,\n",
    "              metrics=[tf.keras.metrics.RootMeanSquaredError()])\n",
    "\n",
    "## 모델 동작\n",
    "result=# 모델 fit 해서 동작하기\n",
    "\n",
    "## model fit은 histoy를 반환한다. 훈련중의 발생하는 모든 정보를 담고 있는 딕셔너리.\n",
    "## histoy는 딕셔너리이므로 keys()를 통해 출력의 key(카테고리)를 알 수 있다.\n",
    "print(result.history.keys())\n"
   ]
  },
  {
   "cell_type": "code",
   "execution_count": null,
   "metadata": {},
   "outputs": [],
   "source": [
    "\n",
    "### history에서 loss key를 가지는 값들만 추출\n",
    "loss = result.history['loss']\n",
    "\n",
    "### loss그래프화\n",
    "epochs = range(1, len(loss) + 1)\n",
    "plt.subplot(211)  ## 2x1 개의 그래프 중에 1번째\n",
    "plt.plot(epochs, loss, 'bo', label='Training loss')\n",
    "plt.title('Training loss')\n",
    "plt.xlabel('Epochs')\n",
    "plt.ylabel('Loss')\n",
    "plt.legend()\n",
    "\n",
    "### history에서 root_mean_squared_error key를 가지는 값들만 추출\n",
    "rmse = result.history['root_mean_squared_error']\n",
    "epochs = range(1, len(rmse) + 1)\n",
    "### mean_absolute_error를 그래프화\n",
    "plt.subplot(212)  ## 2x1 개의 그래프 중에 2번째\n",
    "plt.plot(epochs, rmse, 'ro', label='Training rmse')\n",
    "plt.title('Training rmse')\n",
    "plt.xlabel('Epochs')\n",
    "plt.ylabel('rmse')\n",
    "plt.legend()\n",
    "\n",
    "print(\"\\n Test rmse: %.4f\" % (model.evaluate(X, Y)[1]))\n",
    "plt.show()\n"
   ]
  }
 ],
 "metadata": {
  "anaconda-cloud": {},
  "kernelspec": {
   "display_name": "Python 3",
   "language": "python",
   "name": "python3"
  },
  "language_info": {
   "codemirror_mode": {
    "name": "ipython",
    "version": 3
   },
   "file_extension": ".py",
   "mimetype": "text/x-python",
   "name": "python",
   "nbconvert_exporter": "python",
   "pygments_lexer": "ipython3",
   "version": "3.6.8"
  }
 },
 "nbformat": 4,
 "nbformat_minor": 4
}
